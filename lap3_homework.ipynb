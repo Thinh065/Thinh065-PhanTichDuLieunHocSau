{
 "cells": [
  {
   "cell_type": "markdown",
   "metadata": {},
   "source": [
    "### Cho dữ liệu dirty_data.csv \n",
    "1. Kiểm tra dữ liệu bị thiếu :\n",
    "    - Kiểm tra các cột có dữ liệu thiếu\n",
    "    - Điền giá trị phù hợp hoặc bỏ các hàng có quá nhiều dữ liệu thiếu \n",
    "2. Phát hiện và sửa lỗi dữ liệu bất thường :\n",
    "    - Tìm các giá trị bất thường trong cột tuổi (age) có thể là âm hoạc quá lớn \n",
    "    - Kiểm tra cột thu nhập (income) để phát hiện lỗi bị sai\n",
    "3. Chuyển hóa dạng dữ liệu :\n",
    "    - Chuyển đổi cột ngày sinh về dạng chuẩn yyyy-mm-dd\n",
    "    - Chuyển hóa dữ liệu trong cột giới tính (gender) để chỉ có 2 giới tính phù hợp là \"Female\" và \"Male\"\n",
    "4. Xóa bỏ dữ liệu trùng lặp \n",
    "    - Xác định và xóa các bản ghi trùng lặp dựa trên thông tin khách hàng\n",
    "5. Xuất dữ liệu sạch:\n",
    "Lưu tập dữ liệu đã làm sạch thành tệp mới clean_data.csv"
   ]
  },
  {
   "cell_type": "code",
   "execution_count": null,
   "metadata": {},
   "outputs": [
    {
     "name": "stdout",
     "output_type": "stream",
     "text": [
      "Dữ liệu thiếu trong từng cột:\n",
      "customer_id    0\n",
      "name           0\n",
      "age            1\n",
      "gender         0\n",
      "dob            0\n",
      "income         1\n",
      "email          0\n",
      "dtype: int64\n",
      "Dữ liệu sau khi xử lý:\n",
      "    customer_id          name    age   gender         dob  income  \\\n",
      "0           101  Nguyen Van A   25.0     Male   5/22/1998  1200.0   \n",
      "1           102    Tran Thi B   42.0   Female   7/14/1981  4500.0   \n",
      "2           103      Le Van C   -5.0     male   12/3/1995  3200.0   \n",
      "3           104  Hoang Minh D  150.0        F   8/25/1980  -500.0   \n",
      "4           105    Pham Thi E   30.0      Fem   9/30/1993  3800.0   \n",
      "5           106  Nguyen Van F   28.0        M   11/2/1996  2500.0   \n",
      "6           107     Bui Thi G   29.0   Female   6/15/1994  3800.0   \n",
      "7           108    Dang Van H   40.0        f   1/29/1990  4200.0   \n",
      "8           109      Vo Thi I   27.0     Male   4/10/1995  3900.0   \n",
      "9           110    Phan Van J   22.0  unknown  12/20/1999  3800.0   \n",
      "10          110    Phan Van J   22.0     Male  12/20/1999  3900.0   \n",
      "\n",
      "            email  \n",
      "0   a@example.com  \n",
      "1   b@example.com  \n",
      "2   c@example.com  \n",
      "3   d@example.com  \n",
      "4   e@example.com  \n",
      "5   f@example.com  \n",
      "6   g@example.com  \n",
      "7   h@example.com  \n",
      "8   i@example.com  \n",
      "9   j@example.com  \n",
      "10  j@example.com  \n"
     ]
    }
   ],
   "source": [
    "# 1. Kiểm tra dữ liệu bị thiếu :\n",
    "#     - Kiểm tra các cột có dữ liệu thiếu\n",
    "#     - Điền giá trị phù hợp hoặc bỏ các hàng có quá nhiều dữ liệu thiếu\n",
    "\n",
    "import pandas as pd\n",
    "\n",
    "# Đọc dữ liệu\n",
    "df = pd.read_csv('dirty_data.csv')\n",
    "\n",
    "# Kiểm tra dữ liệu thiếu\n",
    "print(\"Dữ liệu thiếu trong từng cột:\")\n",
    "print(df.isnull().sum())\n",
    "\n",
    "# Làm sạch dữ liệu: Chuyển các giá trị không phải số thành NaN\n",
    "df['income'] = pd.to_numeric(df['income'], errors='coerce')\n",
    "\n",
    "# Điền giá trị trung bình cho cột age\n",
    "df['age'] = df['age'].fillna(df['age'].median())\n",
    "\n",
    "# Điền giá trị trung bình cho cột income\n",
    "df['income'] = df['income'].fillna(df['income'].median())\n",
    "\n",
    "# Điền giá trị phổ biến (mode) cho cột gender\n",
    "df['gender'] = df['gender'].fillna(df['gender'].mode()[0])\n",
    "\n",
    "# In kết quả sau khi xử lý\n",
    "print(\"Dữ liệu sau khi xử lý:\")\n",
    "print(df)\n"
   ]
  },
  {
   "cell_type": "code",
   "execution_count": 15,
   "metadata": {},
   "outputs": [
    {
     "name": "stdout",
     "output_type": "stream",
     "text": [
      "    customer_id          name   age  gender         dob  income          email\n",
      "0           101  Nguyen Van A  25.0    Male   5/22/1998  1200.0  a@example.com\n",
      "1           102    Tran Thi B  42.0  Female   7/14/1981  4500.0  b@example.com\n",
      "4           105    Pham Thi E  30.0  Female   9/30/1993  3800.0  e@example.com\n",
      "5           106  Nguyen Van F  28.0    Male   11/2/1996  2500.0  f@example.com\n",
      "6           107     Bui Thi G  29.0  Female   6/15/1994  3800.0  g@example.com\n",
      "7           108    Dang Van H  40.0  Female   1/29/1990  4200.0  h@example.com\n",
      "8           109      Vo Thi I  27.0    Male   4/10/1995  3900.0  i@example.com\n",
      "9           110    Phan Van J  22.0  Female  12/20/1999  3800.0  j@example.com\n",
      "10          110    Phan Van J  22.0    Male  12/20/1999  3900.0  j@example.com\n"
     ]
    }
   ],
   "source": [
    "# Câu 2: Phát hiện và sửa lỗi dữ liệu bất thường :\n",
    "    # - Tìm các giá trị bất thường trong cột tuổi (age) có thể là âm hoạc quá lớn \n",
    "    # - Kiểm tra cột thu nhập (income) để phát hiện lỗi bị sai\n",
    "\n",
    "# Loại bỏ giá trị bất thường trong cột age\n",
    "df = df[(df['age'] >= 0) & (df['age'] <= 120)]\n",
    "\n",
    "# Loại bỏ giá trị âm trong cột income\n",
    "df = df[df['income'] >= 0]\n",
    "\n",
    "# Chuẩn hóa cột gender\n",
    "df['gender'] = df['gender'].apply(lambda x: 'Male' if x.lower() in ['male', 'm'] else 'Female')\n",
    "\n",
    "print(df)"
   ]
  },
  {
   "cell_type": "code",
   "execution_count": 16,
   "metadata": {},
   "outputs": [
    {
     "name": "stdout",
     "output_type": "stream",
     "text": [
      "    customer_id          name   age  gender        dob  income          email\n",
      "0           101  Nguyen Van A  25.0    Male 1998-05-22  1200.0  a@example.com\n",
      "1           102    Tran Thi B  42.0  Female 1981-07-14  4500.0  b@example.com\n",
      "4           105    Pham Thi E  30.0  Female 1993-09-30  3800.0  e@example.com\n",
      "5           106  Nguyen Van F  28.0    Male 1996-11-02  2500.0  f@example.com\n",
      "6           107     Bui Thi G  29.0  Female 1994-06-15  3800.0  g@example.com\n",
      "7           108    Dang Van H  40.0  Female 1990-01-29  4200.0  h@example.com\n",
      "8           109      Vo Thi I  27.0    Male 1995-04-10  3900.0  i@example.com\n",
      "9           110    Phan Van J  22.0  Female 1999-12-20  3800.0  j@example.com\n",
      "10          110    Phan Van J  22.0    Male 1999-12-20  3900.0  j@example.com\n"
     ]
    }
   ],
   "source": [
    "# Câu 3: Chuyển hóa dạng dữ liệu :\n",
    "#     - Chuyển đổi cột ngày sinh về dạng chuẩn yyyy-mm-dd\n",
    "#     - Chuyển hóa dữ liệu trong cột giới tính (gender) để chỉ có 2 giới tính phù hợp là \"Female\" và \"Male\"\n",
    "\n",
    "# Chuyển đổi cột dob về định dạng chuẩn\n",
    "df['dob'] = pd.to_datetime(df['dob'], format='%m/%d/%Y', errors='coerce')\n",
    "\n",
    "# Đảm bảo cột gender chỉ có hai giá trị\n",
    "df['gender'] = df['gender'].apply(lambda x: 'Male' if x.lower() in ['male', 'm'] else 'Female')\n",
    "\n",
    "# Chuyển đổi cột income sang kiểu float\n",
    "df['income'] = df['income'].astype(float)\n",
    "\n",
    "print(df)"
   ]
  },
  {
   "cell_type": "code",
   "execution_count": 18,
   "metadata": {},
   "outputs": [
    {
     "name": "stdout",
     "output_type": "stream",
     "text": [
      "   customer_id          name   age  gender        dob  income          email\n",
      "0          101  Nguyen Van A  25.0    Male 1998-05-22  1200.0  a@example.com\n",
      "1          102    Tran Thi B  42.0  Female 1981-07-14  4500.0  b@example.com\n",
      "4          105    Pham Thi E  30.0  Female 1993-09-30  3800.0  e@example.com\n",
      "5          106  Nguyen Van F  28.0    Male 1996-11-02  2500.0  f@example.com\n",
      "6          107     Bui Thi G  29.0  Female 1994-06-15  3800.0  g@example.com\n",
      "7          108    Dang Van H  40.0  Female 1990-01-29  4200.0  h@example.com\n",
      "8          109      Vo Thi I  27.0    Male 1995-04-10  3900.0  i@example.com\n",
      "9          110    Phan Van J  22.0  Female 1999-12-20  3800.0  j@example.com\n"
     ]
    }
   ],
   "source": [
    "# Câu 4: 4. Xóa bỏ dữ liệu trùng lặp \n",
    "    # - Xác định và xóa các bản ghi trùng lặp dựa trên thông tin khách hàng\n",
    "\n",
    "# Xóa các bản ghi trùng lặp\n",
    "df.drop_duplicates(subset=['customer_id'], inplace=True)\n",
    "\n",
    "print(df)   "
   ]
  },
  {
   "cell_type": "code",
   "execution_count": 19,
   "metadata": {},
   "outputs": [],
   "source": [
    "# Câu 5: Xuất dữ liệu sạch:\n",
    "    # - Lưu tập dữ liệu đã làm sạch thành tệp mới clean_data.csv\n",
    "\n",
    "# Lưu dữ liệu đã làm sạch\n",
    "df.to_csv('clean_data.csv', index=False)"
   ]
  }
 ],
 "metadata": {
  "kernelspec": {
   "display_name": "Python 3",
   "language": "python",
   "name": "python3"
  },
  "language_info": {
   "codemirror_mode": {
    "name": "ipython",
    "version": 3
   },
   "file_extension": ".py",
   "mimetype": "text/x-python",
   "name": "python",
   "nbconvert_exporter": "python",
   "pygments_lexer": "ipython3",
   "version": "3.11.0"
  }
 },
 "nbformat": 4,
 "nbformat_minor": 2
}

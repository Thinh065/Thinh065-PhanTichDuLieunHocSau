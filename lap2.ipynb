{
 "cells": [
  {
   "cell_type": "markdown",
   "metadata": {},
   "source": [
    "Phần 1: Thống kê dữ liệu\n",
    "1. Hãy sắp xếp dữ liệu điểm DH1 theo thứ tự tăng dần\n",
    "2. Hãy sắp xếp dữ liệu điểm DH2 tăng dần theo nhóm giới tính\n",
    "3. Hãy tạo pivot-table để thống kê các giá trị count, sum, mean, median, min, max, std, Q1,\n",
    "Q2 và Q3 của DH1 theo KT\n",
    "4. Hãy tạo pivot-table để thống kê các giá trị count, sum, mean, median, min, max, std, Q1,\n",
    "Q2 và Q3 của DH1 theo KT và KV\n",
    "5. Hãy tạo pivot-table để thống kê các giá trị count, sum, mean, median, min, max, std, Q1,\n",
    "Q2 và Q3 của DH1 theo KT, KV và DT"
   ]
  },
  {
   "cell_type": "code",
   "execution_count": null,
   "metadata": {},
   "outputs": [
    {
     "name": "stdout",
     "output_type": "stream",
     "text": [
      "    STT   T1   L1   H1   S1   V1   X1   D1   N1   T2  ...  TBM1  TBM2  TBM3  \\\n",
      "53   54  4.9  5.9  6.2  5.6  5.9  5.0  7.0  5.6  6.1  ...  5.69  6.26  6.02   \n",
      "43   44  6.6  7.2  5.9  6.9  7.6  8.1  7.3  6.7  6.3  ...  7.05  6.61  6.77   \n",
      "72   73  5.5  6.6  7.2  7.6  5.5  6.7  6.7  5.2  6.0  ...  6.20  5.88  6.22   \n",
      "5     6  9.3  7.6  7.9  8.6  7.0  7.3  7.7  7.9  9.6  ...  7.96  8.54  7.38   \n",
      "87   88  7.3  4.3  5.3  5.8  4.9  3.7  5.6  5.3  5.9  ...  5.44  5.78  6.48   \n",
      "..  ...  ...  ...  ...  ...  ...  ...  ...  ...  ...  ...   ...   ...   ...   \n",
      "84   85  8.4  7.4  6.0  7.8  6.3  7.2  8.5  6.0  9.3  ...  7.23  7.77  7.58   \n",
      "11   12  7.9  7.0  9.1  8.6  6.1  7.0  5.6  9.0  8.2  ...  7.43  7.72  7.49   \n",
      "23   24  5.3  6.3  5.7  6.9  5.9  7.5  6.6  5.1  6.4  ...  6.05  6.32  6.71   \n",
      "24   25  2.4  4.1  3.6  5.5  5.9  5.6  4.9  4.2  3.3  ...  4.45  4.88  5.41   \n",
      "97   98  8.8  5.5  7.4  7.7  6.2  7.3  8.1  4.5  9.5  ...  7.05  7.84  7.67   \n",
      "\n",
      "    XL1  XL2  XL3  US_TBM1  US_TBM2  US_TBM3  KQXT  \n",
      "53   TB   TB   TB    2.276    2.504    2.408   0.0  \n",
      "43    K    K    K    2.820    2.644    2.708   0.0  \n",
      "72   TB   TB   TB    2.480    2.352    2.488   0.0  \n",
      "5     K    G    K    3.184    3.416    2.952   0.0  \n",
      "87   TB   TB   TB    2.176    2.312    2.592   0.0  \n",
      "..  ...  ...  ...      ...      ...      ...   ...  \n",
      "84    K    K    K    2.892    3.108    3.032   1.0  \n",
      "11    K    K    K    2.972    3.088    2.996   1.0  \n",
      "23   TB   TB    K    2.420    2.528    2.684   1.0  \n",
      "24    Y    Y   TB    1.780    1.952    2.164   0.0  \n",
      "97    K    K    K    2.820    3.136    3.068   1.0  \n",
      "\n",
      "[100 rows x 66 columns]\n"
     ]
    }
   ],
   "source": [
    "# Câu 1: Hãy sắp xếp dữ liệu điểm DH1 theo thứ tự tăng dần\n",
    "import pandas as pd\n",
    "\n",
    "# Đọc file CSV\n",
    "df = pd.read_csv('processed_dulieuxettuyendaihoc.csv')\n",
    "\n",
    "# Sắp xếp dữ liệu điểm DH1 theo thứ tự tăng dần\n",
    "df_sort_DH1 = df.sort_values(by='DH1')\n",
    "print(df_sort_DH1)"
   ]
  },
  {
   "cell_type": "code",
   "execution_count": 7,
   "metadata": {},
   "outputs": [
    {
     "name": "stdout",
     "output_type": "stream",
     "text": [
      "    STT   T1   L1   H1   S1   V1   X1   D1   N1   T2  ...  TBM1  TBM2  TBM3  \\\n",
      "95   96  8.6  6.9  7.4  8.8  7.6  5.8  7.3  5.7  8.9  ...  7.43  7.42  6.83   \n",
      "25   26  3.6  5.8  6.9  6.1  5.5  7.2  5.5  4.3  4.2  ...  5.40  5.20  5.09   \n",
      "24   25  2.4  4.1  3.6  5.5  5.9  5.6  4.9  4.2  3.3  ...  4.45  4.88  5.41   \n",
      "46   47  6.7  6.8  6.4  5.9  5.6  6.4  8.0  6.8  6.6  ...  6.49  6.51  6.16   \n",
      "13   14  4.9  5.4  5.0  5.0  5.8  7.0  4.2  5.8  4.5  ...  5.38  5.51  6.26   \n",
      "..  ...  ...  ...  ...  ...  ...  ...  ...  ...  ...  ...   ...   ...   ...   \n",
      "68   69  7.3  6.4  6.9  7.5  6.2  8.4  7.6  8.1  8.1  ...  7.19  7.70  8.00   \n",
      "11   12  7.9  7.0  9.1  8.6  6.1  7.0  5.6  9.0  8.2  ...  7.43  7.72  7.49   \n",
      "47   48  7.9  7.6  8.4  8.6  6.2  7.5  8.7  7.7  7.3  ...  7.67  7.49  7.11   \n",
      "2     3  5.6  6.8  7.2  7.5  4.3  7.4  5.8  3.2  5.0  ...  5.77  5.38  6.04   \n",
      "97   98  8.8  5.5  7.4  7.7  6.2  7.3  8.1  4.5  9.5  ...  7.05  7.84  7.67   \n",
      "\n",
      "    XL1  XL2  XL3  US_TBM1  US_TBM2  US_TBM3  KQXT  \n",
      "95    K    K    K    2.972    2.968    2.732   0.0  \n",
      "25   TB   TB   TB    2.160    2.080    2.036   0.0  \n",
      "24    Y    Y   TB    1.780    1.952    2.164   0.0  \n",
      "46   TB    K   TB    2.596    2.604    2.464   0.0  \n",
      "13   TB   TB   TB    2.152    2.204    2.504   0.0  \n",
      "..  ...  ...  ...      ...      ...      ...   ...  \n",
      "68    K    K    G    2.876    3.080    3.200   0.0  \n",
      "11    K    K    K    2.972    3.088    2.996   1.0  \n",
      "47    K    K    K    3.068    2.996    2.844   1.0  \n",
      "2    TB   TB   TB    2.308    2.152    2.416   1.0  \n",
      "97    K    K    K    2.820    3.136    3.068   1.0  \n",
      "\n",
      "[100 rows x 66 columns]\n"
     ]
    }
   ],
   "source": [
    "# Câu 2: Hãy sắp xếp dữ liệu điểm DH2 tăng dần theo nhóm giới tính\n",
    "\n",
    "# Sắp xếp dữ liệu điểm DH2 tăng dần theo nhóm giới tính\n",
    "df_sort_DH2 = df.sort_values(by=['GT', 'DH2'])\n",
    "print(df_sort_DH2)"
   ]
  },
  {
   "cell_type": "code",
   "execution_count": null,
   "metadata": {},
   "outputs": [
    {
     "name": "stdout",
     "output_type": "stream",
     "text": [
      "    count     sum      mean  median   min   max       std      Q1    Q2     Q3\n",
      "KT                                                                            \n",
      "A      49  163.50  3.336735    3.25  1.00  6.50  1.274296  2.2500  3.25  4.250\n",
      "A1      6   17.50  2.916667    3.00  2.00  4.25  0.861201  2.1875  3.00  3.250\n",
      "B       9   29.50  3.277778    3.50  1.75  4.50  0.823905  3.2500  3.50  3.750\n",
      "C      14   79.25  5.660714    5.25  4.75  7.00  0.812209  5.0625  5.25  6.375\n",
      "D1     22   84.25  3.829545    3.75  1.25  6.75  1.370146  3.0000  3.75  4.875\n"
     ]
    }
   ],
   "source": [
    "# Câu 3: Hãy tạo pivot-table để thống kê các giá trị count, sum, mean, median, min, max, std, Q1, Q2 và Q3 của DH1 theo KT\n",
    "\n",
    "# Tạo pivot-table thống kê các giá trị của DH1 theo KT\n",
    "pivot_table_DH1_KT = df.pivot_table(values='DH1', index='KT', \n",
    "                                    aggfunc=['count', 'sum', 'mean', 'median', 'min', 'max', 'std', \n",
    "                                             lambda x: x.quantile(0.25),  # Q1\n",
    "                                             lambda x: x.quantile(0.5),   # Q2 \n",
    "                                             lambda x: x.quantile(0.75)]) # Q3\n",
    "pivot_table_DH1_KT.columns = ['count', 'sum', 'mean', 'median', 'min', 'max', 'std', 'Q1', 'Q2', 'Q3']\n",
    "print(pivot_table_DH1_KT)"
   ]
  },
  {
   "cell_type": "code",
   "execution_count": null,
   "metadata": {},
   "outputs": [
    {
     "name": "stdout",
     "output_type": "stream",
     "text": [
      "        count    sum      mean  median   min   max       std      Q1     Q2  \\\n",
      "KT KV                                                                         \n",
      "A  1       29  93.75  3.232759   3.250  1.00  6.50  1.369194  2.0000  3.250   \n",
      "   2        9  31.75  3.527778   3.500  2.00  6.25  1.427653  2.2500  3.500   \n",
      "   2NT     11  38.00  3.454545   3.500  2.00  4.75  0.913908  2.8750  3.500   \n",
      "A1 1        2   4.75  2.375000   2.375  2.00  2.75  0.530330  2.1875  2.375   \n",
      "   2NT      4  12.75  3.187500   3.250  2.00  4.25  0.921389  2.9375  3.250   \n",
      "B  1        8  25.75  3.218750   3.375  1.75  4.50  0.860207  3.0000  3.375   \n",
      "   2NT      1   3.75  3.750000   3.750  3.75  3.75       NaN  3.7500  3.750   \n",
      "C  1        8  43.50  5.437500   5.250  4.75  7.00  0.728869  5.0000  5.250   \n",
      "   2        2  11.50  5.750000   5.750  5.00  6.50  1.060660  5.3750  5.750   \n",
      "   2NT      4  24.25  6.062500   6.000  5.25  7.00  0.943729  5.2500  6.000   \n",
      "D1 1       13  46.75  3.596154   3.500  1.50  5.75  1.264658  2.7500  3.500   \n",
      "   2        8  33.75  4.218750   4.500  1.25  6.75  1.617082  3.5625  4.500   \n",
      "   2NT      1   3.75  3.750000   3.750  3.75  3.75       NaN  3.7500  3.750   \n",
      "\n",
      "            Q3  \n",
      "KT KV           \n",
      "A  1    4.2500  \n",
      "   2    4.2500  \n",
      "   2NT  4.1250  \n",
      "A1 1    2.5625  \n",
      "   2NT  3.5000  \n",
      "B  1    3.5625  \n",
      "   2NT  3.7500  \n",
      "C  1    5.4375  \n",
      "   2    6.1250  \n",
      "   2NT  6.8125  \n",
      "D1 1    4.2500  \n",
      "   2    5.0000  \n",
      "   2NT  3.7500  \n"
     ]
    }
   ],
   "source": [
    "# Câu 4: Hãy tạo pivot-table để thống kê các giá trị count, sum, mean, median, min, max, std, Q1, Q2 và Q3 của DH1 theo KT và KV\n",
    "\n",
    "# Tạo pivot-table thống kê các giá trị của DH1 theo KT và KV\n",
    "pivot_table_DH1_KT_KV = df.pivot_table(values='DH1', index=['KT', 'KV'], \n",
    "                                       aggfunc=['count', 'sum', 'mean', 'median', 'min', 'max', 'std', \n",
    "                                                lambda x: x.quantile(0.25),  # Q1\n",
    "                                                lambda x: x.quantile(0.5),   # Q2 \n",
    "                                                lambda x: x.quantile(0.75)]) # Q3\n",
    "pivot_table_DH1_KT_KV.columns = ['count', 'sum', 'mean', 'median', 'min', 'max', 'std', 'Q1', 'Q2', 'Q3']\n",
    "print(pivot_table_DH1_KT_KV)"
   ]
  },
  {
   "cell_type": "code",
   "execution_count": null,
   "metadata": {},
   "outputs": [
    {
     "name": "stdout",
     "output_type": "stream",
     "text": [
      "            <lambda_0>  <lambda_1>  <lambda_2>  count   max      mean  median  \\\n",
      "KT KV  DT                                                                       \n",
      "A  1   0.0      2.0000       3.250      4.2500     29  6.50  3.232759   3.250   \n",
      "   2   0.0      2.2500       3.000      4.1875      8  6.25  3.437500   3.000   \n",
      "       6.0      4.2500       4.250      4.2500      1  4.25  4.250000   4.250   \n",
      "   2NT 0.0      2.8750       3.500      4.1250     11  4.75  3.454545   3.500   \n",
      "A1 1   0.0      2.1875       2.375      2.5625      2  2.75  2.375000   2.375   \n",
      "   2NT 0.0      2.9375       3.250      3.5000      4  4.25  3.187500   3.250   \n",
      "B  1   0.0      3.0000       3.375      3.5625      8  4.50  3.218750   3.375   \n",
      "   2NT 0.0      3.7500       3.750      3.7500      1  3.75  3.750000   3.750   \n",
      "C  1   0.0      5.0000       5.250      5.4375      8  7.00  5.437500   5.250   \n",
      "   2   0.0      5.3750       5.750      6.1250      2  6.50  5.750000   5.750   \n",
      "   2NT 0.0      5.2500       6.000      6.8125      4  7.00  6.062500   6.000   \n",
      "D1 1   0.0      2.6875       3.625      4.4375     12  5.75  3.645833   3.625   \n",
      "       1.0      3.0000       3.000      3.0000      1  3.00  3.000000   3.000   \n",
      "   2   0.0      4.1250       4.500      5.0000      7  6.75  4.642857   4.500   \n",
      "       1.0      1.2500       1.250      1.2500      1  1.25  1.250000   1.250   \n",
      "   2NT 0.0      3.7500       3.750      3.7500      1  3.75  3.750000   3.750   \n",
      "\n",
      "             min       std    sum  \n",
      "KT KV  DT                          \n",
      "A  1   0.0  1.00  1.369194  93.75  \n",
      "   2   0.0  2.00  1.498511  27.50  \n",
      "       6.0  4.25       NaN   4.25  \n",
      "   2NT 0.0  2.00  0.913908  38.00  \n",
      "A1 1   0.0  2.00  0.530330   4.75  \n",
      "   2NT 0.0  2.00  0.921389  12.75  \n",
      "B  1   0.0  1.75  0.860207  25.75  \n",
      "   2NT 0.0  3.75       NaN   3.75  \n",
      "C  1   0.0  4.75  0.728869  43.50  \n",
      "   2   0.0  5.00  1.060660  11.50  \n",
      "   2NT 0.0  5.25  0.943729  24.25  \n",
      "D1 1   0.0  1.50  1.307576  43.75  \n",
      "       1.0  3.00       NaN   3.00  \n",
      "   2   0.0  3.00  1.171334  32.50  \n",
      "       1.0  1.25       NaN   1.25  \n",
      "   2NT 0.0  3.75       NaN   3.75  \n"
     ]
    }
   ],
   "source": [
    "# Câu 5: Hãy tạo pivot-table để thống kê các giá trị count, sum, mean, median, min, max, std, Q1, Q2 và Q3 của DH1 theo KT, KV và DT\n",
    "\n",
    "# Tạo pivot-table thống kê các giá trị của DH1 theo KT, KV và DT\n",
    "pivot_table_DH1_KT_KV_DT = df.pivot_table(\n",
    "    values='DH1',  \n",
    "    index=['KT', 'KV', 'DT'],  \n",
    "    aggfunc={\n",
    "        'DH1': [\n",
    "            'count', 'sum', 'mean', 'median', 'min', 'max', 'std',\n",
    "            lambda x: x.quantile(0.25),  # Q1\n",
    "            lambda x: x.quantile(0.5),   # Q2 \n",
    "            lambda x: x.quantile(0.75)   # Q3\n",
    "        ]\n",
    "    }\n",
    ")\n",
    "\n",
    "# Đổi tên các cột\n",
    "pivot_table_DH1_KT_KV_DT.columns = [\n",
    "    'count', 'sum', 'mean', 'median', 'min', 'max', 'std', 'Q1', 'Q2', 'Q3'\n",
    "]\n",
    "\n",
    "# In kết quả\n",
    "print(pivot_table_DH1_KT_KV_DT)"
   ]
  }
 ],
 "metadata": {
  "kernelspec": {
   "display_name": "Python 3",
   "language": "python",
   "name": "python3"
  },
  "language_info": {
   "codemirror_mode": {
    "name": "ipython",
    "version": 3
   },
   "file_extension": ".py",
   "mimetype": "text/x-python",
   "name": "python",
   "nbconvert_exporter": "python",
   "pygments_lexer": "ipython3",
   "version": "3.11.0"
  }
 },
 "nbformat": 4,
 "nbformat_minor": 2
}

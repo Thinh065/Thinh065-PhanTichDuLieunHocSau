{
 "cells": [
  {
   "cell_type": "markdown",
   "metadata": {},
   "source": [
    "1. Viết chương trình Python với thư viện NLTK để liệt kê các tên của copus. \n",
    "2. Viết chương trình Python với thư viện NLTK để liệt kê danh sách các stopword bằng các \n",
    "ngôn ngữ khác nhau. \n",
    "3. Viết chương trình Python với thư viện NLTK để kiểm tra danh sách các stopword bằng các \n",
    "ngôn ngữ khác nhau. \n",
    "4. Viết chương trình Python với thư viện NLTK để loại bỏ các stopword từ một văn bản đã cho. \n",
    "5. Viết chương trình Python với thư viện NLTK bỏ qua các stopword từ danh sách các \n",
    "stopword. \n",
    "6. Viết một chương trình Python với thư viện NLTK để tìm định nghĩa và ví dụ của một từ đã \n",
    "cho bằng WordNet từ Wikipedia, \n",
    "7. Viết chương trình Python với thư viện NLTK để tìm tập hợp các từ đồng nghĩa và trái nghĩa \n",
    "của một từ nào đó. \n",
    "8. Viết chương trình Python với thư viện NLTK để có cái nhìn tổng quan về bộ tag, chi tiết của \n",
    "một tag cụ thể trong bộ tag và chi tiết về một số bộ tag liên quan, sử dụng biểu thức chính \n",
    "quy. \n",
    "9. Viết chương trình Python với thư viện NLTK để so sánh sự giống nhau của hai danh từ đã \n",
    "cho. \n",
    "10. Viết chương trình Python với thư viện NLTK để so sánh sự giống nhau của hai động từ đã \n",
    "cho. \n",
    "11. Viết chương trình Python với thư viện NLTK để tìm số lượng tên nam và nữ trong các tên \n",
    "kho ngữ liệu. In tên 10 nam và nữ đầu tiên. Lưu ý: Kho văn bản tên chứa tổng cộng khoảng \n",
    "2943 nam (male.txt) và 5001 nữ (Female.txt) tên. Kho được biên soạn bởi Kantrowitz, Ross. \n",
    "12. Viết chương trình Python với thư viện NLTK để in 15 kết hợp ngẫu nhiên đầu tiên được gắn \n",
    "nhãn nam và được gắn nhãn tên nữ từ kho tên. \n",
    "13. Viết chương trình Python với thư viện NLTK để trích xuất ký tự cuối cùng của tất cả các tên \n",
    "được gắn nhãn và tạo mảng mới với chữ cái cuối cùng của mỗi tên và nhãn được liên kết. "
   ]
  },
  {
   "cell_type": "code",
   "execution_count": 3,
   "metadata": {},
   "outputs": [
    {
     "name": "stderr",
     "output_type": "stream",
     "text": [
      "[nltk_data] Downloading collection 'all-corpora'\n",
      "[nltk_data]    | \n",
      "[nltk_data]    | Downloading package abc to C:\\Users\\Tran\n",
      "[nltk_data]    |     Thinh\\AppData\\Roaming\\nltk_data...\n",
      "[nltk_data]    |   Package abc is already up-to-date!\n",
      "[nltk_data]    | Downloading package alpino to C:\\Users\\Tran\n",
      "[nltk_data]    |     Thinh\\AppData\\Roaming\\nltk_data...\n",
      "[nltk_data]    |   Package alpino is already up-to-date!\n",
      "[nltk_data]    | Downloading package bcp47 to C:\\Users\\Tran\n",
      "[nltk_data]    |     Thinh\\AppData\\Roaming\\nltk_data...\n",
      "[nltk_data]    |   Package bcp47 is already up-to-date!\n",
      "[nltk_data]    | Downloading package biocreative_ppi to C:\\Users\\Tran\n",
      "[nltk_data]    |     Thinh\\AppData\\Roaming\\nltk_data...\n",
      "[nltk_data]    |   Package biocreative_ppi is already up-to-date!\n",
      "[nltk_data]    | Downloading package brown to C:\\Users\\Tran\n",
      "[nltk_data]    |     Thinh\\AppData\\Roaming\\nltk_data...\n",
      "[nltk_data]    |   Package brown is already up-to-date!\n",
      "[nltk_data]    | Downloading package brown_tei to C:\\Users\\Tran\n",
      "[nltk_data]    |     Thinh\\AppData\\Roaming\\nltk_data...\n",
      "[nltk_data]    |   Package brown_tei is already up-to-date!\n",
      "[nltk_data]    | Downloading package cess_cat to C:\\Users\\Tran\n",
      "[nltk_data]    |     Thinh\\AppData\\Roaming\\nltk_data...\n",
      "[nltk_data]    |   Package cess_cat is already up-to-date!\n",
      "[nltk_data]    | Downloading package cess_esp to C:\\Users\\Tran\n",
      "[nltk_data]    |     Thinh\\AppData\\Roaming\\nltk_data...\n",
      "[nltk_data]    |   Package cess_esp is already up-to-date!\n",
      "[nltk_data]    | Downloading package chat80 to C:\\Users\\Tran\n",
      "[nltk_data]    |     Thinh\\AppData\\Roaming\\nltk_data...\n",
      "[nltk_data]    |   Package chat80 is already up-to-date!\n",
      "[nltk_data]    | Downloading package city_database to C:\\Users\\Tran\n",
      "[nltk_data]    |     Thinh\\AppData\\Roaming\\nltk_data...\n",
      "[nltk_data]    |   Package city_database is already up-to-date!\n",
      "[nltk_data]    | Downloading package cmudict to C:\\Users\\Tran\n",
      "[nltk_data]    |     Thinh\\AppData\\Roaming\\nltk_data...\n",
      "[nltk_data]    |   Package cmudict is already up-to-date!\n",
      "[nltk_data]    | Downloading package comparative_sentences to\n",
      "[nltk_data]    |     C:\\Users\\Tran Thinh\\AppData\\Roaming\\nltk_data...\n",
      "[nltk_data]    |   Package comparative_sentences is already up-to-\n",
      "[nltk_data]    |       date!\n",
      "[nltk_data]    | Downloading package comtrans to C:\\Users\\Tran\n",
      "[nltk_data]    |     Thinh\\AppData\\Roaming\\nltk_data...\n",
      "[nltk_data]    |   Package comtrans is already up-to-date!\n",
      "[nltk_data]    | Downloading package conll2000 to C:\\Users\\Tran\n",
      "[nltk_data]    |     Thinh\\AppData\\Roaming\\nltk_data...\n",
      "[nltk_data]    |   Package conll2000 is already up-to-date!\n",
      "[nltk_data]    | Downloading package conll2002 to C:\\Users\\Tran\n",
      "[nltk_data]    |     Thinh\\AppData\\Roaming\\nltk_data...\n",
      "[nltk_data]    |   Package conll2002 is already up-to-date!\n",
      "[nltk_data]    | Downloading package conll2007 to C:\\Users\\Tran\n",
      "[nltk_data]    |     Thinh\\AppData\\Roaming\\nltk_data...\n",
      "[nltk_data]    |   Package conll2007 is already up-to-date!\n",
      "[nltk_data]    | Downloading package crubadan to C:\\Users\\Tran\n",
      "[nltk_data]    |     Thinh\\AppData\\Roaming\\nltk_data...\n",
      "[nltk_data]    |   Package crubadan is already up-to-date!\n",
      "[nltk_data]    | Downloading package dependency_treebank to\n",
      "[nltk_data]    |     C:\\Users\\Tran Thinh\\AppData\\Roaming\\nltk_data...\n",
      "[nltk_data]    |   Package dependency_treebank is already up-to-date!\n",
      "[nltk_data]    | Downloading package dolch to C:\\Users\\Tran\n",
      "[nltk_data]    |     Thinh\\AppData\\Roaming\\nltk_data...\n",
      "[nltk_data]    |   Package dolch is already up-to-date!\n",
      "[nltk_data]    | Downloading package english_wordnet to C:\\Users\\Tran\n",
      "[nltk_data]    |     Thinh\\AppData\\Roaming\\nltk_data...\n",
      "[nltk_data]    |   Unzipping corpora\\english_wordnet.zip.\n",
      "[nltk_data]    | Downloading package europarl_raw to C:\\Users\\Tran\n",
      "[nltk_data]    |     Thinh\\AppData\\Roaming\\nltk_data...\n",
      "[nltk_data]    |   Package europarl_raw is already up-to-date!\n",
      "[nltk_data]    | Downloading package extended_omw to C:\\Users\\Tran\n",
      "[nltk_data]    |     Thinh\\AppData\\Roaming\\nltk_data...\n",
      "[nltk_data]    |   Package extended_omw is already up-to-date!\n",
      "[nltk_data]    | Downloading package floresta to C:\\Users\\Tran\n",
      "[nltk_data]    |     Thinh\\AppData\\Roaming\\nltk_data...\n",
      "[nltk_data]    |   Package floresta is already up-to-date!\n",
      "[nltk_data]    | Downloading package framenet_v15 to C:\\Users\\Tran\n",
      "[nltk_data]    |     Thinh\\AppData\\Roaming\\nltk_data...\n",
      "[nltk_data]    |   Package framenet_v15 is already up-to-date!\n",
      "[nltk_data]    | Downloading package framenet_v17 to C:\\Users\\Tran\n",
      "[nltk_data]    |     Thinh\\AppData\\Roaming\\nltk_data...\n",
      "[nltk_data]    |   Package framenet_v17 is already up-to-date!\n",
      "[nltk_data]    | Downloading package gazetteers to C:\\Users\\Tran\n",
      "[nltk_data]    |     Thinh\\AppData\\Roaming\\nltk_data...\n",
      "[nltk_data]    |   Package gazetteers is already up-to-date!\n",
      "[nltk_data]    | Downloading package genesis to C:\\Users\\Tran\n",
      "[nltk_data]    |     Thinh\\AppData\\Roaming\\nltk_data...\n",
      "[nltk_data]    |   Package genesis is already up-to-date!\n",
      "[nltk_data]    | Downloading package gutenberg to C:\\Users\\Tran\n",
      "[nltk_data]    |     Thinh\\AppData\\Roaming\\nltk_data...\n",
      "[nltk_data]    |   Package gutenberg is already up-to-date!\n",
      "[nltk_data]    | Downloading package ieer to C:\\Users\\Tran\n",
      "[nltk_data]    |     Thinh\\AppData\\Roaming\\nltk_data...\n",
      "[nltk_data]    |   Package ieer is already up-to-date!\n",
      "[nltk_data]    | Downloading package inaugural to C:\\Users\\Tran\n",
      "[nltk_data]    |     Thinh\\AppData\\Roaming\\nltk_data...\n",
      "[nltk_data]    |   Package inaugural is already up-to-date!\n",
      "[nltk_data]    | Downloading package indian to C:\\Users\\Tran\n",
      "[nltk_data]    |     Thinh\\AppData\\Roaming\\nltk_data...\n",
      "[nltk_data]    |   Package indian is already up-to-date!\n",
      "[nltk_data]    | Downloading package jeita to C:\\Users\\Tran\n",
      "[nltk_data]    |     Thinh\\AppData\\Roaming\\nltk_data...\n",
      "[nltk_data]    |   Package jeita is already up-to-date!\n",
      "[nltk_data]    | Downloading package kimmo to C:\\Users\\Tran\n",
      "[nltk_data]    |     Thinh\\AppData\\Roaming\\nltk_data...\n",
      "[nltk_data]    |   Package kimmo is already up-to-date!\n",
      "[nltk_data]    | Downloading package knbc to C:\\Users\\Tran\n",
      "[nltk_data]    |     Thinh\\AppData\\Roaming\\nltk_data...\n",
      "[nltk_data]    |   Package knbc is already up-to-date!\n",
      "[nltk_data]    | Downloading package lin_thesaurus to C:\\Users\\Tran\n",
      "[nltk_data]    |     Thinh\\AppData\\Roaming\\nltk_data...\n",
      "[nltk_data]    |   Package lin_thesaurus is already up-to-date!\n",
      "[nltk_data]    | Downloading package mac_morpho to C:\\Users\\Tran\n",
      "[nltk_data]    |     Thinh\\AppData\\Roaming\\nltk_data...\n",
      "[nltk_data]    |   Package mac_morpho is already up-to-date!\n",
      "[nltk_data]    | Downloading package machado to C:\\Users\\Tran\n",
      "[nltk_data]    |     Thinh\\AppData\\Roaming\\nltk_data...\n",
      "[nltk_data]    |   Package machado is already up-to-date!\n",
      "[nltk_data]    | Downloading package masc_tagged to C:\\Users\\Tran\n",
      "[nltk_data]    |     Thinh\\AppData\\Roaming\\nltk_data...\n",
      "[nltk_data]    |   Package masc_tagged is already up-to-date!\n",
      "[nltk_data]    | Downloading package movie_reviews to C:\\Users\\Tran\n",
      "[nltk_data]    |     Thinh\\AppData\\Roaming\\nltk_data...\n",
      "[nltk_data]    |   Package movie_reviews is already up-to-date!\n",
      "[nltk_data]    | Downloading package mte_teip5 to C:\\Users\\Tran\n",
      "[nltk_data]    |     Thinh\\AppData\\Roaming\\nltk_data...\n",
      "[nltk_data]    |   Package mte_teip5 is already up-to-date!\n",
      "[nltk_data]    | Downloading package names to C:\\Users\\Tran\n",
      "[nltk_data]    |     Thinh\\AppData\\Roaming\\nltk_data...\n",
      "[nltk_data]    |   Package names is already up-to-date!\n",
      "[nltk_data]    | Downloading package nombank.1.0 to C:\\Users\\Tran\n",
      "[nltk_data]    |     Thinh\\AppData\\Roaming\\nltk_data...\n",
      "[nltk_data]    |   Package nombank.1.0 is already up-to-date!\n",
      "[nltk_data]    | Downloading package nonbreaking_prefixes to\n",
      "[nltk_data]    |     C:\\Users\\Tran Thinh\\AppData\\Roaming\\nltk_data...\n",
      "[nltk_data]    |   Package nonbreaking_prefixes is already up-to-date!\n",
      "[nltk_data]    | Downloading package nps_chat to C:\\Users\\Tran\n",
      "[nltk_data]    |     Thinh\\AppData\\Roaming\\nltk_data...\n",
      "[nltk_data]    |   Package nps_chat is already up-to-date!\n",
      "[nltk_data]    | Downloading package omw to C:\\Users\\Tran\n",
      "[nltk_data]    |     Thinh\\AppData\\Roaming\\nltk_data...\n",
      "[nltk_data]    |   Package omw is already up-to-date!\n",
      "[nltk_data]    | Downloading package omw-1.4 to C:\\Users\\Tran\n",
      "[nltk_data]    |     Thinh\\AppData\\Roaming\\nltk_data...\n",
      "[nltk_data]    |   Package omw-1.4 is already up-to-date!\n",
      "[nltk_data]    | Downloading package opinion_lexicon to C:\\Users\\Tran\n",
      "[nltk_data]    |     Thinh\\AppData\\Roaming\\nltk_data...\n",
      "[nltk_data]    |   Package opinion_lexicon is already up-to-date!\n",
      "[nltk_data]    | Downloading package panlex_swadesh to C:\\Users\\Tran\n",
      "[nltk_data]    |     Thinh\\AppData\\Roaming\\nltk_data...\n",
      "[nltk_data]    |   Package panlex_swadesh is already up-to-date!\n",
      "[nltk_data]    | Downloading package paradigms to C:\\Users\\Tran\n",
      "[nltk_data]    |     Thinh\\AppData\\Roaming\\nltk_data...\n",
      "[nltk_data]    |   Package paradigms is already up-to-date!\n",
      "[nltk_data]    | Downloading package pe08 to C:\\Users\\Tran\n",
      "[nltk_data]    |     Thinh\\AppData\\Roaming\\nltk_data...\n",
      "[nltk_data]    |   Package pe08 is already up-to-date!\n",
      "[nltk_data]    | Downloading package pil to C:\\Users\\Tran\n",
      "[nltk_data]    |     Thinh\\AppData\\Roaming\\nltk_data...\n",
      "[nltk_data]    |   Package pil is already up-to-date!\n",
      "[nltk_data]    | Downloading package pl196x to C:\\Users\\Tran\n",
      "[nltk_data]    |     Thinh\\AppData\\Roaming\\nltk_data...\n",
      "[nltk_data]    |   Package pl196x is already up-to-date!\n",
      "[nltk_data]    | Downloading package ppattach to C:\\Users\\Tran\n",
      "[nltk_data]    |     Thinh\\AppData\\Roaming\\nltk_data...\n",
      "[nltk_data]    |   Package ppattach is already up-to-date!\n",
      "[nltk_data]    | Downloading package problem_reports to C:\\Users\\Tran\n",
      "[nltk_data]    |     Thinh\\AppData\\Roaming\\nltk_data...\n",
      "[nltk_data]    |   Package problem_reports is already up-to-date!\n",
      "[nltk_data]    | Downloading package product_reviews_1 to\n",
      "[nltk_data]    |     C:\\Users\\Tran Thinh\\AppData\\Roaming\\nltk_data...\n",
      "[nltk_data]    |   Package product_reviews_1 is already up-to-date!\n",
      "[nltk_data]    | Downloading package product_reviews_2 to\n",
      "[nltk_data]    |     C:\\Users\\Tran Thinh\\AppData\\Roaming\\nltk_data...\n",
      "[nltk_data]    |   Package product_reviews_2 is already up-to-date!\n",
      "[nltk_data]    | Downloading package propbank to C:\\Users\\Tran\n",
      "[nltk_data]    |     Thinh\\AppData\\Roaming\\nltk_data...\n",
      "[nltk_data]    |   Package propbank is already up-to-date!\n",
      "[nltk_data]    | Downloading package pros_cons to C:\\Users\\Tran\n",
      "[nltk_data]    |     Thinh\\AppData\\Roaming\\nltk_data...\n",
      "[nltk_data]    |   Package pros_cons is already up-to-date!\n",
      "[nltk_data]    | Downloading package ptb to C:\\Users\\Tran\n",
      "[nltk_data]    |     Thinh\\AppData\\Roaming\\nltk_data...\n",
      "[nltk_data]    |   Package ptb is already up-to-date!\n",
      "[nltk_data]    | Downloading package qc to C:\\Users\\Tran\n",
      "[nltk_data]    |     Thinh\\AppData\\Roaming\\nltk_data...\n",
      "[nltk_data]    |   Package qc is already up-to-date!\n",
      "[nltk_data]    | Downloading package reuters to C:\\Users\\Tran\n",
      "[nltk_data]    |     Thinh\\AppData\\Roaming\\nltk_data...\n",
      "[nltk_data]    |   Package reuters is already up-to-date!\n",
      "[nltk_data]    | Downloading package rte to C:\\Users\\Tran\n",
      "[nltk_data]    |     Thinh\\AppData\\Roaming\\nltk_data...\n",
      "[nltk_data]    |   Package rte is already up-to-date!\n",
      "[nltk_data]    | Downloading package semcor to C:\\Users\\Tran\n",
      "[nltk_data]    |     Thinh\\AppData\\Roaming\\nltk_data...\n",
      "[nltk_data]    |   Package semcor is already up-to-date!\n",
      "[nltk_data]    | Downloading package senseval to C:\\Users\\Tran\n",
      "[nltk_data]    |     Thinh\\AppData\\Roaming\\nltk_data...\n",
      "[nltk_data]    |   Package senseval is already up-to-date!\n",
      "[nltk_data]    | Downloading package sentence_polarity to\n",
      "[nltk_data]    |     C:\\Users\\Tran Thinh\\AppData\\Roaming\\nltk_data...\n",
      "[nltk_data]    |   Package sentence_polarity is already up-to-date!\n",
      "[nltk_data]    | Downloading package sentiwordnet to C:\\Users\\Tran\n",
      "[nltk_data]    |     Thinh\\AppData\\Roaming\\nltk_data...\n",
      "[nltk_data]    |   Package sentiwordnet is already up-to-date!\n",
      "[nltk_data]    | Downloading package shakespeare to C:\\Users\\Tran\n",
      "[nltk_data]    |     Thinh\\AppData\\Roaming\\nltk_data...\n",
      "[nltk_data]    |   Package shakespeare is already up-to-date!\n",
      "[nltk_data]    | Downloading package sinica_treebank to C:\\Users\\Tran\n",
      "[nltk_data]    |     Thinh\\AppData\\Roaming\\nltk_data...\n",
      "[nltk_data]    |   Package sinica_treebank is already up-to-date!\n",
      "[nltk_data]    | Downloading package smultron to C:\\Users\\Tran\n",
      "[nltk_data]    |     Thinh\\AppData\\Roaming\\nltk_data...\n",
      "[nltk_data]    |   Package smultron is already up-to-date!\n",
      "[nltk_data]    | Downloading package state_union to C:\\Users\\Tran\n",
      "[nltk_data]    |     Thinh\\AppData\\Roaming\\nltk_data...\n",
      "[nltk_data]    |   Package state_union is already up-to-date!\n",
      "[nltk_data]    | Downloading package stopwords to C:\\Users\\Tran\n",
      "[nltk_data]    |     Thinh\\AppData\\Roaming\\nltk_data...\n",
      "[nltk_data]    |   Unzipping corpora\\stopwords.zip.\n",
      "[nltk_data]    | Downloading package subjectivity to C:\\Users\\Tran\n",
      "[nltk_data]    |     Thinh\\AppData\\Roaming\\nltk_data...\n",
      "[nltk_data]    |   Package subjectivity is already up-to-date!\n",
      "[nltk_data]    | Downloading package swadesh to C:\\Users\\Tran\n",
      "[nltk_data]    |     Thinh\\AppData\\Roaming\\nltk_data...\n",
      "[nltk_data]    |   Package swadesh is already up-to-date!\n",
      "[nltk_data]    | Downloading package switchboard to C:\\Users\\Tran\n",
      "[nltk_data]    |     Thinh\\AppData\\Roaming\\nltk_data...\n",
      "[nltk_data]    |   Package switchboard is already up-to-date!\n",
      "[nltk_data]    | Downloading package timit to C:\\Users\\Tran\n",
      "[nltk_data]    |     Thinh\\AppData\\Roaming\\nltk_data...\n",
      "[nltk_data]    |   Package timit is already up-to-date!\n",
      "[nltk_data]    | Downloading package toolbox to C:\\Users\\Tran\n",
      "[nltk_data]    |     Thinh\\AppData\\Roaming\\nltk_data...\n",
      "[nltk_data]    |   Package toolbox is already up-to-date!\n",
      "[nltk_data]    | Downloading package treebank to C:\\Users\\Tran\n",
      "[nltk_data]    |     Thinh\\AppData\\Roaming\\nltk_data...\n",
      "[nltk_data]    |   Package treebank is already up-to-date!\n",
      "[nltk_data]    | Downloading package twitter_samples to C:\\Users\\Tran\n",
      "[nltk_data]    |     Thinh\\AppData\\Roaming\\nltk_data...\n",
      "[nltk_data]    |   Package twitter_samples is already up-to-date!\n",
      "[nltk_data]    | Downloading package udhr to C:\\Users\\Tran\n",
      "[nltk_data]    |     Thinh\\AppData\\Roaming\\nltk_data...\n",
      "[nltk_data]    |   Package udhr is already up-to-date!\n",
      "[nltk_data]    | Downloading package udhr2 to C:\\Users\\Tran\n",
      "[nltk_data]    |     Thinh\\AppData\\Roaming\\nltk_data...\n",
      "[nltk_data]    |   Package udhr2 is already up-to-date!\n",
      "[nltk_data]    | Downloading package unicode_samples to C:\\Users\\Tran\n",
      "[nltk_data]    |     Thinh\\AppData\\Roaming\\nltk_data...\n",
      "[nltk_data]    |   Package unicode_samples is already up-to-date!\n",
      "[nltk_data]    | Downloading package universal_treebanks_v20 to\n",
      "[nltk_data]    |     C:\\Users\\Tran Thinh\\AppData\\Roaming\\nltk_data...\n",
      "[nltk_data]    |   Package universal_treebanks_v20 is already up-to-\n",
      "[nltk_data]    |       date!\n",
      "[nltk_data]    | Downloading package verbnet to C:\\Users\\Tran\n",
      "[nltk_data]    |     Thinh\\AppData\\Roaming\\nltk_data...\n",
      "[nltk_data]    |   Package verbnet is already up-to-date!\n",
      "[nltk_data]    | Downloading package verbnet3 to C:\\Users\\Tran\n",
      "[nltk_data]    |     Thinh\\AppData\\Roaming\\nltk_data...\n",
      "[nltk_data]    |   Package verbnet3 is already up-to-date!\n",
      "[nltk_data]    | Downloading package webtext to C:\\Users\\Tran\n",
      "[nltk_data]    |     Thinh\\AppData\\Roaming\\nltk_data...\n",
      "[nltk_data]    |   Package webtext is already up-to-date!\n",
      "[nltk_data]    | Downloading package wordnet to C:\\Users\\Tran\n",
      "[nltk_data]    |     Thinh\\AppData\\Roaming\\nltk_data...\n",
      "[nltk_data]    |   Package wordnet is already up-to-date!\n",
      "[nltk_data]    | Downloading package wordnet2021 to C:\\Users\\Tran\n",
      "[nltk_data]    |     Thinh\\AppData\\Roaming\\nltk_data...\n",
      "[nltk_data]    |   Package wordnet2021 is already up-to-date!\n",
      "[nltk_data]    | Downloading package wordnet2022 to C:\\Users\\Tran\n",
      "[nltk_data]    |     Thinh\\AppData\\Roaming\\nltk_data...\n",
      "[nltk_data]    |   Package wordnet2022 is already up-to-date!\n",
      "[nltk_data]    | Downloading package wordnet31 to C:\\Users\\Tran\n",
      "[nltk_data]    |     Thinh\\AppData\\Roaming\\nltk_data...\n",
      "[nltk_data]    |   Package wordnet31 is already up-to-date!\n",
      "[nltk_data]    | Downloading package wordnet_ic to C:\\Users\\Tran\n",
      "[nltk_data]    |     Thinh\\AppData\\Roaming\\nltk_data...\n"
     ]
    },
    {
     "name": "stdout",
     "output_type": "stream",
     "text": [
      "dict_keys(['_LazyModule__lazymodule_locals', '_LazyModule__lazymodule_globals', '__name__', '_LazyModule__lazymodule_name', '_LazyModule__lazymodule_init'])\n"
     ]
    },
    {
     "name": "stderr",
     "output_type": "stream",
     "text": [
      "[nltk_data]    |   Package wordnet_ic is already up-to-date!\n",
      "[nltk_data]    | Downloading package words to C:\\Users\\Tran\n",
      "[nltk_data]    |     Thinh\\AppData\\Roaming\\nltk_data...\n",
      "[nltk_data]    |   Package words is already up-to-date!\n",
      "[nltk_data]    | Downloading package ycoe to C:\\Users\\Tran\n",
      "[nltk_data]    |     Thinh\\AppData\\Roaming\\nltk_data...\n",
      "[nltk_data]    |   Package ycoe is already up-to-date!\n",
      "[nltk_data]    | \n",
      "[nltk_data]  Done downloading collection all-corpora\n"
     ]
    }
   ],
   "source": [
    "# Viết chương trình Python với thư viện NLTK để liệt kê các tên của copus.\n",
    "\n",
    "import nltk\n",
    "nltk.download('all-corpora')\n",
    "\n",
    "# Liệt kê danh sách các corpus trong NLTK\n",
    "print(nltk.corpus.__dict__.keys())"
   ]
  },
  {
   "cell_type": "code",
   "execution_count": 4,
   "metadata": {},
   "outputs": [
    {
     "name": "stdout",
     "output_type": "stream",
     "text": [
      "['albanian', 'arabic', 'azerbaijani', 'basque', 'belarusian', 'bengali', 'catalan', 'chinese', 'danish', 'dutch', 'english', 'finnish', 'french', 'german', 'greek', 'hebrew', 'hinglish', 'hungarian', 'indonesian', 'italian', 'kazakh', 'nepali', 'norwegian', 'portuguese', 'romanian', 'russian', 'slovene', 'spanish', 'swedish', 'tajik', 'tamil', 'turkish']\n"
     ]
    },
    {
     "name": "stderr",
     "output_type": "stream",
     "text": [
      "[nltk_data] Downloading package stopwords to C:\\Users\\Tran\n",
      "[nltk_data]     Thinh\\AppData\\Roaming\\nltk_data...\n",
      "[nltk_data]   Package stopwords is already up-to-date!\n"
     ]
    }
   ],
   "source": [
    "# Liệt kê danh sách stopword trong các ngôn ngữ khác nhau\n",
    "\n",
    "from nltk.corpus import stopwords\n",
    "nltk.download('stopwords')\n",
    "\n",
    "# Liệt kê các ngôn ngữ có stopwords trong NLTK\n",
    "print(stopwords.fileids())"
   ]
  },
  {
   "cell_type": "code",
   "execution_count": 5,
   "metadata": {},
   "outputs": [
    {
     "name": "stdout",
     "output_type": "stream",
     "text": [
      "\n",
      "Stopwords in english:\n",
      "['a', 'about', 'above', 'after', 'again', 'against', 'ain', 'all', 'am', 'an']\n",
      "\n",
      "Stopwords in french:\n",
      "['au', 'aux', 'avec', 'ce', 'ces', 'dans', 'de', 'des', 'du', 'elle']\n",
      "\n",
      "Stopwords in german:\n",
      "['aber', 'alle', 'allem', 'allen', 'aller', 'alles', 'als', 'also', 'am', 'an']\n",
      "\n",
      "Stopwords in spanish:\n",
      "['de', 'la', 'que', 'el', 'en', 'y', 'a', 'los', 'del', 'se']\n"
     ]
    }
   ],
   "source": [
    "# Kiểm tra danh sách stopword trong các ngôn ngữ khác nhau\n",
    "\n",
    "from nltk.corpus import stopwords\n",
    "\n",
    "# Lấy stopword của một số ngôn ngữ\n",
    "languages = ['english', 'french', 'german', 'spanish']\n",
    "for lang in languages:\n",
    "    print(f\"\\nStopwords in {lang}:\")\n",
    "    print(stopwords.words(lang)[:10])  # Hiển thị 10 từ đầu tiên"
   ]
  },
  {
   "cell_type": "code",
   "execution_count": 6,
   "metadata": {},
   "outputs": [
    {
     "name": "stdout",
     "output_type": "stream",
     "text": [
      "Original: ['This', 'is', 'a', 'simple', 'example', 'to', 'remove', 'stopwords', 'from', 'a', 'given', 'text', '.']\n",
      "Filtered: ['simple', 'example', 'remove', 'stopwords', 'given', 'text', '.']\n"
     ]
    }
   ],
   "source": [
    "# Loại bỏ stopwords từ một văn bản\n",
    "\n",
    "from nltk.tokenize import word_tokenize\n",
    "\n",
    "text = \"This is a simple example to remove stopwords from a given text.\"\n",
    "words = word_tokenize(text)\n",
    "\n",
    "# Lọc bỏ stopwords trong tiếng Anh\n",
    "filtered_words = [word for word in words if word.lower() not in stopwords.words('english')]\n",
    "\n",
    "print(\"Original:\", words)\n",
    "print(\"Filtered:\", filtered_words)"
   ]
  },
  {
   "cell_type": "code",
   "execution_count": 7,
   "metadata": {},
   "outputs": [
    {
     "name": "stdout",
     "output_type": "stream",
     "text": [
      "Stopwords sau khi loại bỏ một số từ: ['those', 'our', \"i'll\", \"he's\", 'from', \"mightn't\", 'other', \"don't\", 'can', 'below']\n"
     ]
    }
   ],
   "source": [
    "# Bỏ qua các stopwords từ danh sách stopwords\n",
    "\n",
    "from nltk.corpus import stopwords\n",
    "\n",
    "# Loại bỏ một số từ stopword khỏi danh sách mặc định\n",
    "custom_stopwords = set(stopwords.words('english')) - {'not', 'no'}\n",
    "\n",
    "print(\"Stopwords sau khi loại bỏ một số từ:\", list(custom_stopwords)[:10])"
   ]
  },
  {
   "cell_type": "code",
   "execution_count": 8,
   "metadata": {},
   "outputs": [
    {
     "name": "stderr",
     "output_type": "stream",
     "text": [
      "[nltk_data] Downloading package wordnet to C:\\Users\\Tran\n",
      "[nltk_data]     Thinh\\AppData\\Roaming\\nltk_data...\n",
      "[nltk_data]   Package wordnet is already up-to-date!\n"
     ]
    },
    {
     "name": "stdout",
     "output_type": "stream",
     "text": [
      "Định nghĩa: a machine for performing calculations automatically\n",
      "Ví dụ: []\n",
      "Định nghĩa: an expert at calculation (or at operating calculating machines)\n",
      "Ví dụ: []\n"
     ]
    }
   ],
   "source": [
    "# Tìm định nghĩa và ví dụ của một từ bằng WordNet\n",
    "\n",
    "from nltk.corpus import wordnet\n",
    "nltk.download('wordnet')\n",
    "\n",
    "word = \"computer\"\n",
    "synsets = wordnet.synsets(word)\n",
    "\n",
    "for syn in synsets[:3]:  # Hiển thị 3 kết quả đầu tiên\n",
    "    print(f\"Định nghĩa: {syn.definition()}\")\n",
    "    print(f\"Ví dụ: {syn.examples()}\")"
   ]
  },
  {
   "cell_type": "code",
   "execution_count": 10,
   "metadata": {},
   "outputs": [
    {
     "name": "stdout",
     "output_type": "stream",
     "text": [
      "Từ đồng nghĩa: {'happy', 'well-chosen', 'glad', 'felicitous'}\n",
      "Từ trái nghĩa: {'unhappy'}\n"
     ]
    }
   ],
   "source": [
    "# Tìm tập hợp từ đồng nghĩa và trái nghĩa\n",
    "\n",
    "word = \"happy\"\n",
    "synonyms = set()\n",
    "antonyms = set()\n",
    "\n",
    "for syn in wordnet.synsets(word):\n",
    "    for lemma in syn.lemmas():\n",
    "        synonyms.add(lemma.name())\n",
    "        if lemma.antonyms():\n",
    "            antonyms.add(lemma.antonyms()[0].name())\n",
    "\n",
    "print(\"Từ đồng nghĩa:\", synonyms)\n",
    "print(\"Từ trái nghĩa:\", antonyms)"
   ]
  },
  {
   "cell_type": "code",
   "execution_count": 11,
   "metadata": {},
   "outputs": [
    {
     "name": "stdout",
     "output_type": "stream",
     "text": [
      "Số lượng tag: 472\n",
      "Các tag: {'FW-IN+AT', 'PPL-TL', 'DO+PPSS', 'JJT-TL', 'FW-NR-TL', 'EX+MD', 'DOD*-TL', 'FW-RB-TL', ':-HL', 'MD', 'CS-TL', 'WDT-NC', 'CD-NC', 'JJR', 'NN', 'BE-HL', 'AP-TL', 'PPL-HL', 'NR-HL', 'WDT-HL', 'BEZ-NC', 'PPO-HL', 'WDT+BEZ-TL', 'NN+HVZ-TL', 'BER-NC', 'BEDZ-NC', 'RBT', 'BER', 'NN+NN-NC', 'VB-TL', 'PPSS+MD-NC', 'FW-PPL', 'HVD', 'NP+MD', 'FW-NPS-TL', 'MD+PPSS', 'NN$', 'UH-NC', 'FW-PP$-NC', 'AT', 'FW-PPSS', 'DOD-NC', 'BEZ-HL', 'WRB+BEZ-TL', 'HVN', 'PPS-NC', 'WPS+MD', 'NP$', 'PN+BEZ', 'PPO-NC', 'VBG-NC', 'JJR-TL', '.-HL', \"'\", 'WRB+IN', 'HVZ-NC', 'PPS-TL', 'PPSS+HVD', 'NN$-TL', 'PPS+BEZ-HL', 'PPSS+HV-TL', 'UH', 'FW-*-TL', 'RP', 'BEDZ*', 'DTI-TL', 'OD-NC', 'CC-HL', 'NNS-TL-NC', 'NN+HVD-TL', 'AP$', 'EX+HVZ', 'WPS-TL', 'UH-HL', 'NR-TL', 'WPO-TL', 'FW-WPS', 'FW-BEZ', 'PN-NC', '---HL', 'HV', 'PPSS+VB', 'DOZ-HL', 'DOZ-TL', 'ABL', 'BEG', ')-HL', 'WRB+BEZ', 'VB-NC', 'BED*', 'NR-TL-HL', 'NP$-HL', 'NPS', 'FW-AT+NP-TL', 'DT-HL', 'FW-VB', 'RB-NC', 'FW-NN$-TL', 'NPS-HL', '(-HL', 'RN', 'WDT+BER', 'PPS+BEZ-NC', 'DTI-HL', 'MD+TO', 'WPS+BEZ-TL', 'NPS$-TL', 'NP-TL-HL', 'FW-AT-TL', 'JJ-TL-HL', 'JJ-TL-NC', 'VBG', 'FW-IN+AT-TL', 'FW-IN+NN', 'DOZ*-TL', 'VB+IN', '.-NC', 'PP$', 'DOZ*', 'NN+BEZ', 'FW-BER', 'PPSS-NC', 'PPLS', 'OD-TL', 'DO-HL', 'WPO', 'JJ+JJ-NC', 'NN+IN', 'WRB+DO', 'NNS+MD', 'RB$', 'NNS-TL', 'QL-NC', 'IN-TL', 'NNS$-HL', 'FW-HV', 'HV-TL', 'PPSS+BER-N', 'WRB+BER', 'FW-DT+BEZ', 'VBN-HL', 'NP+BEZ', 'PPSS+MD', 'PN+HVZ', 'BEZ*', 'WDT+HVZ', 'WRB+DOZ', 'FW-PP$-TL', 'FW-*', 'MD+HV', 'VBD-NC', 'FW-RB+CC', 'NP+HVZ-NC', 'VBG-HL', 'WPS+HVZ', 'AT-TL-HL', 'PPSS+BEM', 'JJR+CS', 'FW-UH-NC', 'FW-CS', 'PPSS+BEZ*', 'OD-HL', 'WDT+DO+PPS', 'NNS-NC', 'RB+BEZ-HL', 'JJ', 'PPSS', 'NN-TL', 'HVZ-TL', 'BER*-NC', 'BED-NC', 'FW-NP-TL', 'PN+MD', 'FW-WDT', 'JJS-TL', 'FW-PP$', 'RB', 'BED', 'VBD-HL', 'FW-PN', 'QL-TL', 'FW-AT', 'VBN-TL', 'PP$$', 'EX-NC', 'FW-VBG-TL', 'VBN-TL-HL', 'WDT', 'WRB+MD', 'BEZ', 'FW-VBD', 'FW-NNS-NC', 'IN-TL-HL', 'PPS+MD', 'BE-TL', 'FW-PPO', 'CD-TL', 'FW-PPO+IN', 'WPS+HVD', 'IN-HL', 'FW-JJT', 'FW-NN-TL', 'VB+JJ-NC', 'FW-QL', 'VBD', ',-NC', 'NNS-TL-HL', 'WP$', ',-TL', 'NNS$-TL', 'WDT+BEZ', 'NNS$-TL-HL', 'FW-JJ-NC', 'PPSS-HL', 'PN$', 'FW-JJ', 'CS-NC', 'VBD-TL', 'BER-HL', 'PP$-NC', 'DO-TL', 'DOZ', 'CC-TL-HL', 'EX', 'NNS$', 'MD*-HL', 'DT+MD', 'HVZ', 'FW-AT-HL', 'DTS-HL', 'NR$-TL', 'PN-TL', 'QL-HL', 'CD$', 'FW-AT+NN-TL', 'PN-HL', 'DT', 'VBG+TO', 'CD', '.', 'TO+VB', 'MD-TL', 'MD*', 'CD-TL-HL', 'RBR', 'RP+IN', 'HVG', 'BEM', '*', 'FW-PPSS+HV', 'PN', 'AP-NC', 'RB-TL', 'DOD*', 'CS-HL', 'DOD', 'CC-TL', 'FW-NN-NC', 'VBN-TL-NC', 'VB+RP', 'VB', 'FW-CC-TL', 'WDT+BEZ-NC', ':', 'FW-TO+VB', 'VBZ-HL', 'NN$-HL', 'HVZ*', 'FW-IN+AT-T', 'PP$-TL', 'IN+PPO', 'PPSS+HV', 'NN+HVZ', 'NR-NC', 'NPS-NC', 'DO', 'JJ-HL', 'RP-NC', 'WDT+BEZ-HL', 'CS', 'FW-VBG', 'DT-TL', 'WPS+BEZ', 'PPS', 'FW-NN', 'NRS-TL', 'NPS-TL', 'WRB+DOD*', 'MD-HL', 'WPS-HL', 'NPS$-HL', 'BEN-TL', 'FW-NN$', 'HVG-HL', 'FW-IN', 'JJR-NC', 'BEDZ-HL', 'NP-TL', 'FW-IN-TL', 'JJT-NC', 'PPSS-TL', 'UH-TL', 'NR$', 'IN+IN', 'WRB-HL', 'NN-TL-HL', 'NN-NC', 'NR+MD', 'DT+BEZ', 'PPO-TL', 'VBN-NC', 'NP-NC', 'RBR+CS', 'PPO', 'PP$-HL', 'BE', 'WDT+DOD', 'FW-UH', 'TO-NC', ',-HL', 'PPL-NC', 'DTS', 'FW-NNS', 'AT-NC', 'OD', 'BEZ-TL', 'PPSS+BEZ', 'CC-NC', 'NP', 'NN+MD', 'VBZ', 'DT+BEZ-NC', 'WRB-NC', 'WRB-TL', 'FW-NNS-TL', '*-TL', 'HV-HL', 'VB-HL', 'PPSS+BER-NC', 'FW-JJ-TL', '(', 'ABN-TL', 'RB-HL', 'NNS-HL', 'FW-RB', 'VB+TO', 'BEM*', 'RBR-NC', 'JJ-NC', 'BEDZ', 'FW-DTS', 'ABN', 'QLP', 'FW-UH-TL', 'FW-VBN', 'NRS', 'FW-CC', 'FW-VB-TL', 'AP-HL', 'BER-TL', 'NIL', 'VBG-TL', 'BEM-NC', 'DT$', 'IN', 'TO', 'JJS', 'PPSS+BER', \"''\", 'FW-NR', 'EX+BEZ', 'DO*', 'FW-IN+NP-TL', 'FW-OD-NC', 'WQL', 'RB+BEZ-NC', 'IN-NC', 'MD-NC', 'AT-TL', 'NN-TL-NC', 'VB+PPO', 'DT-NC', 'FW-WPO', '``', 'FW-NP', 'NP-HL', 'DO-NC', 'AP+AP-NC', 'NN+BEZ-TL', '--', 'ABN-NC', 'RP-HL', 'FW-VB-NC', 'JJS-HL', 'WPS-NC', 'FW-DT', 'WQL-TL', 'ABX', 'NNS$-NC', 'PPL', 'NNS', 'FW-NN-TL-NC', 'FW-NPS', 'PN+HVD', 'FW-JJR', '*-HL', 'RP-TL', 'WDT+BER+PP', 'FW-PPS', 'BER*', 'PPSS+BER-TL', 'AT-HL', 'PPS+HVZ', 'NR', 'FW-VBD-TL', 'NP$-TL', ')', 'FW-IN+NN-TL', 'RB+CS', 'HVD*', 'VBZ-NC', 'RB+BEZ', 'WRB', 'JJ-TL', 'NP+BEZ-NC', ',', 'AP', 'VB+VB-NC', 'TO-TL', 'EX+HVD', 'DTI', 'NP+HVZ', 'TO-HL', 'VBN', 'FW-CD', 'CD-HL', ':-TL', 'EX-HL', 'FW-VBZ', 'BEN', 'VBZ-TL', 'WPS+BEZ-NC', 'WRB+DOD', 'DTX', 'DTS+BEZ', 'FW-CD-TL', 'WPO-NC', 'HV-NC', 'JJT-HL', 'HVD-HL', 'VB+AT', 'VBN+TO', 'HV*', '.-TL', 'WPS', 'ABN-HL', 'JJ$-TL', 'FW-PPL+VBZ', 'FW-BE', 'NPS$', 'PPS+HVD', 'CC', 'JJR-HL', 'JJT', 'PPS+BEZ', 'HV+TO', 'NN-HL', 'DO*-HL', 'QL', 'FW-OD-TL', '*-NC', 'PPS-HL'}\n"
     ]
    }
   ],
   "source": [
    "# Tổng quan về bộ tag trong NLTK\n",
    "\n",
    "from nltk.corpus import brown\n",
    "\n",
    "# Hiển thị danh sách các tag\n",
    "tags = set(tag for word, tag in brown.tagged_words())\n",
    "print(\"Số lượng tag:\", len(tags))\n",
    "print(\"Các tag:\", tags)"
   ]
  },
  {
   "cell_type": "code",
   "execution_count": 12,
   "metadata": {},
   "outputs": [
    {
     "name": "stdout",
     "output_type": "stream",
     "text": [
      "Độ giống nhau giữa 'Synset('dog.n.01')' và 'Synset('cat.n.01')': 0.8571428571428571\n"
     ]
    }
   ],
   "source": [
    "# So sánh sự giống nhau của hai danh từ\n",
    "\n",
    "word1 = wordnet.synset(\"dog.n.01\")\n",
    "word2 = wordnet.synset(\"cat.n.01\")\n",
    "\n",
    "similarity = word1.wup_similarity(word2)\n",
    "print(f\"Độ giống nhau giữa '{word1}' và '{word2}': {similarity}\")"
   ]
  },
  {
   "cell_type": "code",
   "execution_count": 13,
   "metadata": {},
   "outputs": [
    {
     "name": "stdout",
     "output_type": "stream",
     "text": [
      "Độ giống nhau giữa 'Synset('run.v.01')' và 'Synset('walk.v.01')': 0.2857142857142857\n"
     ]
    }
   ],
   "source": [
    "# So sánh sự giống nhau của hai động từ\n",
    "\n",
    "verb1 = wordnet.synset(\"run.v.01\")\n",
    "verb2 = wordnet.synset(\"walk.v.01\")\n",
    "\n",
    "similarity = verb1.wup_similarity(verb2)\n",
    "print(f\"Độ giống nhau giữa '{verb1}' và '{verb2}': {similarity}\")"
   ]
  },
  {
   "cell_type": "code",
   "execution_count": 14,
   "metadata": {},
   "outputs": [
    {
     "name": "stdout",
     "output_type": "stream",
     "text": [
      "Số lượng tên nam: 2943\n",
      "Số lượng tên nữ: 5001\n",
      "10 tên nam đầu tiên: ['Aamir', 'Aaron', 'Abbey', 'Abbie', 'Abbot', 'Abbott', 'Abby', 'Abdel', 'Abdul', 'Abdulkarim']\n",
      "10 tên nữ đầu tiên: ['Abagael', 'Abagail', 'Abbe', 'Abbey', 'Abbi', 'Abbie', 'Abby', 'Abigael', 'Abigail', 'Abigale']\n"
     ]
    },
    {
     "name": "stderr",
     "output_type": "stream",
     "text": [
      "[nltk_data] Downloading package names to C:\\Users\\Tran\n",
      "[nltk_data]     Thinh\\AppData\\Roaming\\nltk_data...\n",
      "[nltk_data]   Package names is already up-to-date!\n"
     ]
    }
   ],
   "source": [
    "# Tìm số lượng tên nam và nữ trong danh sách tên\n",
    "\n",
    "from nltk.corpus import names\n",
    "nltk.download('names')\n",
    "\n",
    "male_names = names.words('male.txt')\n",
    "female_names = names.words('female.txt')\n",
    "\n",
    "print(f\"Số lượng tên nam: {len(male_names)}\")\n",
    "print(f\"Số lượng tên nữ: {len(female_names)}\")\n",
    "print(\"10 tên nam đầu tiên:\", male_names[:10])\n",
    "print(\"10 tên nữ đầu tiên:\", female_names[:10])"
   ]
  },
  {
   "cell_type": "code",
   "execution_count": 15,
   "metadata": {},
   "outputs": [
    {
     "name": "stdout",
     "output_type": "stream",
     "text": [
      "[('Simmonds', 'male'), ('Fernande', 'female'), ('Marsiella', 'female'), ('Siegfried', 'male'), ('Nikita', 'male'), ('Ebonee', 'female'), ('Zed', 'male'), ('Desiree', 'female'), ('Lorrie', 'female'), ('Constance', 'female'), ('Retha', 'female'), ('Bartholomew', 'male'), ('Sharyl', 'female'), ('Berta', 'female'), ('Kora', 'female')]\n"
     ]
    }
   ],
   "source": [
    "# In 15 tên ngẫu nhiên từ danh sách tên\n",
    "\n",
    "import random\n",
    "\n",
    "male_labeled = [(name, 'male') for name in male_names]\n",
    "female_labeled = [(name, 'female') for name in female_names]\n",
    "\n",
    "# Lấy 15 tên ngẫu nhiên\n",
    "random_names = random.sample(male_labeled + female_labeled, 15)\n",
    "print(random_names)"
   ]
  },
  {
   "cell_type": "code",
   "execution_count": 16,
   "metadata": {},
   "outputs": [
    {
     "name": "stdout",
     "output_type": "stream",
     "text": [
      "[({'last_letter': 'r'}, 'male'), ({'last_letter': 'n'}, 'male'), ({'last_letter': 'y'}, 'male'), ({'last_letter': 'e'}, 'male'), ({'last_letter': 't'}, 'male'), ({'last_letter': 't'}, 'male'), ({'last_letter': 'y'}, 'male'), ({'last_letter': 'l'}, 'male'), ({'last_letter': 'l'}, 'male'), ({'last_letter': 'm'}, 'male')]\n"
     ]
    }
   ],
   "source": [
    "# Trích xuất ký tự cuối cùng của các tên trong danh sách\n",
    "\n",
    "def extract_features(name):\n",
    "    return {'last_letter': name[-1]}\n",
    "\n",
    "# Lưu trữ danh sách các ký tự cuối cùng của tên\n",
    "features = [(extract_features(name), gender) for name, gender in male_labeled + female_labeled]\n",
    "\n",
    "print(features[:10])  # In 10 kết quả đầu tiên"
   ]
  }
 ],
 "metadata": {
  "kernelspec": {
   "display_name": "Python 3",
   "language": "python",
   "name": "python3"
  },
  "language_info": {
   "codemirror_mode": {
    "name": "ipython",
    "version": 3
   },
   "file_extension": ".py",
   "mimetype": "text/x-python",
   "name": "python",
   "nbconvert_exporter": "python",
   "pygments_lexer": "ipython3",
   "version": "3.11.0"
  }
 },
 "nbformat": 4,
 "nbformat_minor": 2
}

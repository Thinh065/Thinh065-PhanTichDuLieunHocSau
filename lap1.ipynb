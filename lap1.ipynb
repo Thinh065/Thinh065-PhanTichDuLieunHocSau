{
 "cells": [
  {
   "cell_type": "markdown",
   "metadata": {},
   "source": [
    "Dữ liệu dulieuxettuyendaihoc.csv được mô tả như sau\n",
    "Dữ liệu lưu trữ điểm trung bình môn, khu vực, khối thi và điểm thi đại học của 100 học sinh.\n",
    "- T1, L1, H1, S1, V1, X1, D1, N1 lần lượt là điểm trung bình các môn Toán, Lý ,Hóa,\n",
    "Sinh, Văn, Sử, Địa, Ngoại ngữ năm lớp 10\n",
    "- T2, L2, H2, S2, V2, X2, D2, N2 lần lượt là điểm trung bình các môn Toán, Lý ,Hóa,\n",
    "Sinh, Văn, Sử, Địa, Ngoại ngữ năm lớp 11\n",
    "- T6, L6, H6, S6, V6, X6, D6, N6 lần lượt là điểm trung bình các môn Toán, Lý ,Hóa,\n",
    "Sinh, Văn, Sử, Địa, Ngoại ngữ năm lớp 12\n",
    "- GT: Giới tính\n",
    "- DT: Dân tộc\n",
    "- KV, KT lần lượt là khu vực thi và khối thi\n",
    "- DH1, DH2, DH3 lần lượt là điểm thi đại học môn 1, môn 2, môn 3\n",
    "\n",
    "Sử dụng Pandas để thực hiện các yêu cầu sau đây\n",
    "1. Xác định và phân loại dữ liệu định tính và định lượng\n",
    "2. Định nghĩa các thang đo phù hợp cho từng biến số\n",
    "3. Sử dụng Python để tải dữ liệu lên chương trình và in ra màn hình 10 dòng đầu tiên và 10\n",
    "dòng cuối cùng\n",
    "4. Thống kê dữ liệu thiếu cho cột dân tộc và hiệu chỉnh dữ liệu thiếu như sau: Mặc định thiếu\n",
    "thì điền giá trị 0."
   ]
  },
  {
   "cell_type": "code",
   "execution_count": null,
   "metadata": {},
   "outputs": [],
   "source": [
    "import pandas as pd\n",
    "\n",
    "# 1. Đọc dữ liệu từ file CSV\n",
    "df = pd.read_csv(\"dulieuxettuyendaihoc.csv\")\n",
    "\n",
    "# 2. Xác định dữ liệu định tính và định lượng\n",
    "qualitative_vars = [\"GT\", \"DT\", \"KV\", \"KT\"]  \n",
    "quantitative_vars = [\"T1\", \"L1\", \"H1\", \"S1\", \"V1\", \"X1\", \"D1\", \"N1\",  # Lớp 10\n",
    "                     \"T2\", \"L2\", \"H2\", \"S2\", \"V2\", \"X2\", \"D2\", \"N2\",  # Lớp 11\n",
    "                     \"T6\", \"L6\", \"H6\", \"S6\", \"V6\", \"X6\", \"D6\", \"N6\",  # Lớp 12\n",
    "                     \"DH1\", \"DH2\", \"DH3\"]  # Điểm thi đại học\n",
    "\n",
    "# 3. In 10 dòng đầu và 10 dòng cuối\n",
    "print(\"10 dòng đầu tiên:\")\n",
    "print(df.head(10))\n",
    "\n",
    "print(\"\\n10 dòng cuối cùng:\")\n",
    "print(df.tail(10))\n",
    "\n",
    "# 4. Thống kê dữ liệu thiếu cho cột \"DT\" và hiệu chỉnh dữ liệu thiếu bằng 0\n",
    "print(\"\\nThống kê dữ liệu thiếu trong cột DT:\")\n",
    "print(df[\"DT\"].isnull().sum())  # Đếm số lượng giá trị thiếu\n",
    "\n",
    "df[\"DT\"].fillna(0, inplace=True)  # Thay thế dữ liệu thiếu bằng 0\n",
    "\n",
    "print(\"\\nDữ liệu sau khi xử lý thiếu của cột DT:\")\n",
    "print(df[\"DT\"].unique())  # Kiểm tra lại các giá trị trong cột DT\n",
    "\n",
    "# 5. Thống kê dữ liệu thiếu cho cột \"T1\" và thay thế bằng giá trị trung bình\n",
    "print(\"\\nThống kê dữ liệu thiếu trong cột T1:\")\n",
    "print(df[\"T1\"].isnull().sum())  # Đếm số lượng giá trị thiếu\n",
    "\n",
    "mean_T1 = df[\"T1\"].mean()  # Tính trung bình của cột T1\n",
    "df[\"T1\"].fillna(mean_T1, inplace=True)  # Điền giá trị thiếu bằng trung bình\n",
    "\n",
    "print(\"\\nDữ liệu sau khi xử lý thiếu của cột T1:\")\n",
    "print(df[\"T1\"].describe())  # Kiểm tra lại dữ liệu sau khi thay thế"
   ]
  }
 ],
 "metadata": {
  "language_info": {
   "name": "python"
  }
 },
 "nbformat": 4,
 "nbformat_minor": 2
}

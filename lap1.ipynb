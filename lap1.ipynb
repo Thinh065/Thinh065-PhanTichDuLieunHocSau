{
 "cells": [
  {
   "cell_type": "markdown",
   "metadata": {},
   "source": [
    "Dữ liệu dulieuxettuyendaihoc.csv được mô tả như sau\n",
    "Dữ liệu lưu trữ điểm trung bình môn, khu vực, khối thi và điểm thi đại học của 100 học sinh.\n",
    "- T1, L1, H1, S1, V1, X1, D1, N1 lần lượt là điểm trung bình các môn Toán, Lý ,Hóa,\n",
    "Sinh, Văn, Sử, Địa, Ngoại ngữ năm lớp 10\n",
    "- T2, L2, H2, S2, V2, X2, D2, N2 lần lượt là điểm trung bình các môn Toán, Lý ,Hóa,\n",
    "Sinh, Văn, Sử, Địa, Ngoại ngữ năm lớp 11\n",
    "- T6, L6, H6, S6, V6, X6, D6, N6 lần lượt là điểm trung bình các môn Toán, Lý ,Hóa,\n",
    "Sinh, Văn, Sử, Địa, Ngoại ngữ năm lớp 12\n",
    "- GT: Giới tính\n",
    "- DT: Dân tộc\n",
    "- KV, KT lần lượt là khu vực thi và khối thi\n",
    "- DH1, DH2, DH3 lần lượt là điểm thi đại học môn 1, môn 2, môn 3\n",
    "\n",
    "Sử dụng Pandas để thực hiện các yêu cầu sau đây\n",
    "1. Xác định và phân loại dữ liệu định tính và định lượng\n",
    "2. Định nghĩa các thang đo phù hợp cho từng biến số\n",
    "3. Sử dụng Python để tải dữ liệu lên chương trình và in ra màn hình 10 dòng đầu tiên và 10\n",
    "dòng cuối cùng\n",
    "4. Thống kê dữ liệu thiếu cho cột dân tộc và hiệu chỉnh dữ liệu thiếu như sau: Mặc định thiếu\n",
    "thì điền giá trị 0.\n",
    "5. Thống kê dữ liệu thiếu cho biến T1 và hiệu chỉnh dữ liệu, lưu ý việc thay thế dữ liệu thiếu sử\n",
    "dụng phương pháp Mean."
   ]
  },
  {
   "cell_type": "markdown",
   "metadata": {},
   "source": [
    "Bài làm:"
   ]
  },
  {
   "cell_type": "markdown",
   "metadata": {},
   "source": [
    "Câu 1: Xác định và phân loại dữ liệu định tính và định lượng \n",
    "- Dữ liệu định tính (Qualitative Data): GT (Giới tính), DT (Dân tộc), KV (Khu vực thi), KT (Khối thi).\n",
    "\n",
    "- Dữ liệu định lượng (Quantitative Data): T1, L1, H1, S1, V1, X1, D1, N1, T2, L2, H2, S2, V2, X2, D2, N2, T6, L6, H6, S6, V6, X6, D6, N6, DH1, DH2, DH3."
   ]
  },
  {
   "cell_type": "markdown",
   "metadata": {},
   "source": [
    "Câu 2: Định nghĩa các thang đo phù hợp cho từng biến số\n",
    "- Thang đo định danh (Nominal Scale): GT, DT, KV, KT.\n",
    "\n",
    "- Thang đo khoảng (Interval Scale): T1, L1, H1, S1, V1, X1, D1, N1, T2, L2, H2, S2, V2, X2, D2, N2, T6, L6, H6, S6, V6, X6, D6, N6, DH1, DH2, DH3."
   ]
  },
  {
   "cell_type": "code",
   "execution_count": 22,
   "metadata": {},
   "outputs": [
    {
     "name": "stdout",
     "output_type": "stream",
     "text": [
      "   STT   T1   L1   H1   S1   V1   X1   D1   N1   T2  ...   X6   D6   N6  GT  \\\n",
      "0    1  7.2  7.3  6.3  7.3  7.0  7.9  7.3  5.5  8.4  ...  6.6  7.6  5.9   F   \n",
      "1    2  5.4  3.9  3.9  4.0  5.4  5.4  5.3  2.8  6.3  ...  6.6  6.1  4.4   M   \n",
      "2    3  5.6  6.8  7.2  7.5  4.3  7.4  5.8  3.2  5.0  ...  7.9  8.1  4.6   M   \n",
      "3    4  6.6  6.4  5.3  6.9  5.4  7.3  6.4  5.8  5.1  ...  7.1  7.3  7.4   M   \n",
      "4    5  6.0  5.0  6.0  7.3  6.5  7.7  7.9  6.1  5.4  ...  6.1  7.5  7.2   M   \n",
      "5    6  9.3  7.6  7.9  8.6  7.0  7.3  7.7  7.9  9.6  ...  5.7  8.0  7.8   M   \n",
      "6    7  2.8  3.9  5.5  6.9  5.0  7.3  4.6  5.2  4.4  ...  6.6  6.0  6.0   F   \n",
      "7    8  8.3  6.0  7.6  5.1  7.5  4.7  5.8  7.2  6.7  ...  7.1  6.8  7.0   F   \n",
      "8    9  6.5  6.3  7.6  6.0  5.5  7.1  6.3  5.0  7.3  ...  9.1  7.9  6.1   F   \n",
      "9   10  7.3  5.9  4.7  7.1  6.7  7.9  6.7  7.7  8.0  ...  6.4  6.1  7.8   F   \n",
      "\n",
      "   DT   KV   DH1   DH2   DH3  KT  \n",
      "0 NaN  2NT  3.25  3.25  4.50  A1  \n",
      "1 NaN    1  6.00  4.00  3.50   C  \n",
      "2 NaN    1  5.00  6.75  4.00   C  \n",
      "3 NaN    1  4.25  4.25  5.25  D1  \n",
      "4 NaN  2NT  4.25  4.50  5.00   A  \n",
      "5 NaN    1  1.50  4.00  6.00  D1  \n",
      "6 NaN    2  6.50  6.75  5.25   C  \n",
      "7 NaN    2  3.75  4.50  4.25  D1  \n",
      "8 NaN    1  3.50  3.50  6.75  D1  \n",
      "9 NaN    1  4.00  4.75  5.50  D1  \n",
      "\n",
      "[10 rows x 56 columns]\n",
      "    STT   T1   L1   H1   S1   V1   X1   D1   N1   T2  ...   X6   D6   N6  GT  \\\n",
      "90   91  8.1  7.7  9.1  8.5  6.1  8.6  8.8  7.3  8.8  ...  8.3  8.7  7.8   M   \n",
      "91   92  7.8  6.5  6.7  5.4  6.2  4.8  5.9  4.4  8.9  ...  7.2  7.4  7.0   M   \n",
      "92   93  5.0  6.6  6.5  7.2  5.8  6.7  6.4  6.0  6.8  ...  5.9  6.7  5.8   M   \n",
      "93   94  5.2  5.2  6.8  7.9  6.6  8.9  7.6  5.3  6.8  ...  8.7  7.8  5.0   M   \n",
      "94   95  5.8  5.9  7.6  6.1  5.3  8.1  6.1  5.0  6.4  ...  7.3  6.8  5.3   M   \n",
      "95   96  8.6  6.9  7.4  8.8  7.6  5.8  7.3  5.7  8.9  ...  6.3  6.1  6.2   F   \n",
      "96   97  3.7  5.4  6.0  5.1  5.5  3.9  6.1  4.4  4.1  ...  7.9  7.5  4.4   F   \n",
      "97   98  8.8  5.5  7.4  7.7  6.2  7.3  8.1  4.5  9.5  ...  9.6  8.4  5.8   M   \n",
      "98   99  2.7  1.8  3.4  5.3  4.5  7.9  4.9  3.8  2.8  ...  6.6  5.2  5.9   M   \n",
      "99  100  4.1  5.2  4.9  5.3  5.5  5.4  7.2  5.4  4.4  ...  5.6  6.6  5.8   M   \n",
      "\n",
      "    DT   KV   DH1   DH2   DH3  KT  \n",
      "90 NaN    2  6.25  4.00  6.50   A  \n",
      "91 NaN  2NT  4.75  4.75  4.50   A  \n",
      "92 NaN    1  3.25  5.25  4.25   A  \n",
      "93 NaN    1  3.50  4.25  5.00   A  \n",
      "94 NaN    1  4.25  2.50  4.75   A  \n",
      "95 NaN    1  5.25  1.50  6.25   C  \n",
      "96 NaN    1  5.25  3.75  4.75   C  \n",
      "97 NaN  2NT  7.00  8.00  4.00   C  \n",
      "98 NaN    1  5.00  3.50  5.50   C  \n",
      "99 NaN  2NT  5.25  2.50  4.25   C  \n",
      "\n",
      "[10 rows x 56 columns]\n"
     ]
    }
   ],
   "source": [
    "# Câu 3: Sử dụng Python để tải dữ liệu lên chương trình và in ra màn hình 10 dòng đầu tiên và 10 dòng cuối cùng\n",
    "\n",
    "import pandas as pd\n",
    "import numpy as np\n",
    "\n",
    "# Đọc file csv\n",
    "df = pd.read_csv('dulieuxettuyendaihoc.csv')\n",
    "\n",
    "# In ra 10 dòng đầu tiên\n",
    "print(df.head(10))\n",
    "\n",
    "# In ra 10 dòng cuối cùng\n",
    "print(df.tail(10))"
   ]
  },
  {
   "cell_type": "code",
   "execution_count": 24,
   "metadata": {},
   "outputs": [
    {
     "name": "stdout",
     "output_type": "stream",
     "text": [
      "Số lượng dữ liệu thiếu trong cột DT: 0\n",
      "Số lượng giá trị riêng biệt trong cột DT: 3\n",
      "0\n"
     ]
    }
   ],
   "source": [
    "# Câu 4: Thống kê dữ liệu thiếu cho cột dân tộc và hiệu chỉnh dữ liệu thiếu như sau: Mặc định thiếu thì điền giá trị 0.\n",
    "\n",
    "# Lập bảng tần số, tần suất để khảo sát dữ liệu thiếu\n",
    "missing_data = df['DT'].isnull().sum()\n",
    "unique_values = df['DT'].nunique()\n",
    "\n",
    "print(f\"Số lượng dữ liệu thiếu trong cột DT: {missing_data}\")\n",
    "print(f\"Số lượng giá trị riêng biệt trong cột DT: {unique_values}\")\n",
    "\n",
    "# Thay thế dữ liệu thiếu bằng giá trị 0\n",
    "df['DT'] = df['DT'].fillna(0)\n",
    "\n",
    "# Kiểm tra lại sau khi thay thế\n",
    "print(df['DT'].isnull().sum())\n"
   ]
  },
  {
   "cell_type": "code",
   "execution_count": 26,
   "metadata": {},
   "outputs": [
    {
     "name": "stdout",
     "output_type": "stream",
     "text": [
      "Số lượng dữ liệu thiếu trong cột T1: 0\n",
      "0\n"
     ]
    },
    {
     "name": "stderr",
     "output_type": "stream",
     "text": [
      "C:\\Users\\Tran Thinh\\AppData\\Local\\Temp\\ipykernel_10156\\3940294750.py:8: FutureWarning: A value is trying to be set on a copy of a DataFrame or Series through chained assignment using an inplace method.\n",
      "The behavior will change in pandas 3.0. This inplace method will never work because the intermediate object on which we are setting values always behaves as a copy.\n",
      "\n",
      "For example, when doing 'df[col].method(value, inplace=True)', try using 'df.method({col: value}, inplace=True)' or df[col] = df[col].method(value) instead, to perform the operation inplace on the original object.\n",
      "\n",
      "\n",
      "  df['T1'].fillna(mean_T1, inplace=True)\n"
     ]
    }
   ],
   "source": [
    "# Câu 5: Thống kê dữ liệu thiếu cho biến T1 và hiệu chỉnh dữ liệu, lưu ý việc thay thế dữ liệu thiếu sử dụng phương pháp Mean.\n",
    "# Thống kê dữ liệu thiếu cho biến T1\n",
    "missing_T1 = df['T1'].isnull().sum()\n",
    "print(f\"Số lượng dữ liệu thiếu trong cột T1: {missing_T1}\")\n",
    "\n",
    "# Thay thế dữ liệu thiếu bằng giá trị trung bình (Mean)\n",
    "mean_T1 = df['T1'].mean()\n",
    "df['T1'].fillna(mean_T1, inplace=True)\n",
    "\n",
    "# Kiểm tra lại sau khi thay thế\n",
    "print(df['T1'].isnull().sum())\n"
   ]
  }
 ],
 "metadata": {
  "kernelspec": {
   "display_name": "Python 3",
   "language": "python",
   "name": "python3"
  },
  "language_info": {
   "codemirror_mode": {
    "name": "ipython",
    "version": 3
   },
   "file_extension": ".py",
   "mimetype": "text/x-python",
   "name": "python",
   "nbconvert_exporter": "python",
   "pygments_lexer": "ipython3",
   "version": "3.11.0"
  }
 },
 "nbformat": 4,
 "nbformat_minor": 2
}

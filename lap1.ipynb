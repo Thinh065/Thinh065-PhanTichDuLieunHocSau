{
 "cells": [
  {
   "cell_type": "markdown",
   "metadata": {},
   "source": [
    "Dữ liệu dulieuxettuyendaihoc.csv được mô tả như sau\n",
    "Dữ liệu lưu trữ điểm trung bình môn, khu vực, khối thi và điểm thi đại học của 100 học sinh.\n",
    "- T1, L1, H1, S1, V1, X1, D1, N1 lần lượt là điểm trung bình các môn Toán, Lý ,Hóa,\n",
    "Sinh, Văn, Sử, Địa, Ngoại ngữ năm lớp 10\n",
    "- T2, L2, H2, S2, V2, X2, D2, N2 lần lượt là điểm trung bình các môn Toán, Lý ,Hóa,\n",
    "Sinh, Văn, Sử, Địa, Ngoại ngữ năm lớp 11\n",
    "- T6, L6, H6, S6, V6, X6, D6, N6 lần lượt là điểm trung bình các môn Toán, Lý ,Hóa,\n",
    "Sinh, Văn, Sử, Địa, Ngoại ngữ năm lớp 12\n",
    "- GT: Giới tính\n",
    "- DT: Dân tộc\n",
    "- KV, KT lần lượt là khu vực thi và khối thi\n",
    "- DH1, DH2, DH3 lần lượt là điểm thi đại học môn 1, môn 2, môn 3\n",
    "\n",
    "Sử dụng Pandas để thực hiện các yêu cầu sau đây\n",
    "1. Xác định và phân loại dữ liệu định tính và định lượng\n",
    "2. Định nghĩa các thang đo phù hợp cho từng biến số\n",
    "3. Sử dụng Python để tải dữ liệu lên chương trình và in ra màn hình 10 dòng đầu tiên và 10\n",
    "dòng cuối cùng\n",
    "4. Thống kê dữ liệu thiếu cho cột dân tộc và hiệu chỉnh dữ liệu thiếu như sau: Mặc định thiếu\n",
    "thì điền giá trị 0.\n",
    "5. Thống kê dữ liệu thiếu cho biến T1 và hiệu chỉnh dữ liệu, lưu ý việc thay thế dữ liệu thiếu sử\n",
    "dụng phương pháp Mean."
   ]
  },
  {
   "cell_type": "markdown",
   "metadata": {},
   "source": [
    "Bài làm:"
   ]
  },
  {
   "cell_type": "markdown",
   "metadata": {},
   "source": [
    "Câu 1: Xác định và phân loại dữ liệu định tính và định lượng \n",
    "- Dữ liệu định tính (Qualitative Data): GT (Giới tính), DT (Dân tộc), KV (Khu vực thi), KT (Khối thi).\n",
    "\n",
    "- Dữ liệu định lượng (Quantitative Data): T1, L1, H1, S1, V1, X1, D1, N1, T2, L2, H2, S2, V2, X2, D2, N2, T6, L6, H6, S6, V6, X6, D6, N6, DH1, DH2, DH3."
   ]
  },
  {
   "cell_type": "markdown",
   "metadata": {},
   "source": [
    "Câu 2: Định nghĩa các thang đo phù hợp cho từng biến số\n",
    "- Thang đo định danh (Nominal Scale): GT, DT, KV, KT.\n",
    "\n",
    "- Thang đo khoảng (Interval Scale): T1, L1, H1, S1, V1, X1, D1, N1, T2, L2, H2, S2, V2, X2, D2, N2, T6, L6, H6, S6, V6, X6, D6, N6, DH1, DH2, DH3."
   ]
  },
  {
   "cell_type": "code",
   "execution_count": 5,
   "metadata": {},
   "outputs": [
    {
     "name": "stdout",
     "output_type": "stream",
     "text": [
      "10 dòng đầu tiên:\n",
      "   T10  L10  H10  S10  V10  D10  N10  T11  L11  H11  ...  V12  D12  N12  GT  \\\n",
      "0  6.9  5.2  8.2  8.5  5.5  5.8  7.7  8.5  6.0  5.9  ...  6.3  9.9  9.0   0   \n",
      "1  9.8  8.2  5.4  7.7  9.5  6.4  5.3  5.8  5.1  7.7  ...  6.2  5.6  7.9   0   \n",
      "2  8.7  6.6  5.8  6.5  7.5  5.9  6.7  7.9  5.9  9.4  ...  9.5  7.1  7.6   0   \n",
      "3  8.0  7.5  9.5  9.1  9.1  5.4  5.7  8.0  7.9  8.7  ...  6.2  5.2  6.5   0   \n",
      "4  5.8  9.5  8.0  8.4  6.6  5.6  5.3  7.1  7.1  9.0  ...  6.4  8.7  9.7   1   \n",
      "5  5.8  6.2  5.0  5.8  9.5  7.3  9.9  8.7  9.5  8.3  ...  8.8  9.6  7.0   0   \n",
      "6  5.3  7.1  5.5  9.6  6.9  6.0  6.6  9.7  9.1  8.5  ...  7.2  6.4  5.4   0   \n",
      "7  9.3  8.8  8.3  9.1  5.1  6.8  9.0  9.6  6.7  9.2  ...  8.9  9.3  8.1   0   \n",
      "8  8.0  6.1  5.0  9.7  9.5  7.5  6.3  7.3  6.3  6.2  ...  5.3  6.5  5.6   1   \n",
      "9  8.5  5.4  5.8  8.6  5.5  8.5  8.4  5.6  6.9  7.4  ...  7.4  9.6  6.7   1   \n",
      "\n",
      "    DT  KV  KT   DH1   DH2   DH3  \n",
      "0  1.0   3   A   8.4  18.2  17.9  \n",
      "1  NaN   3   C  21.3  11.0  24.0  \n",
      "2  1.0   2   C  23.5  17.5  12.1  \n",
      "3  1.0   1   A  12.9  22.0  13.8  \n",
      "4  1.0   1   C  21.1   6.9  27.4  \n",
      "5  1.0   2   B  14.9  11.9  28.7  \n",
      "6  1.0   1   D  22.8  25.2  27.3  \n",
      "7  1.0   1   D  10.0  16.5  15.5  \n",
      "8  1.0   3   D  27.3  18.7  24.5  \n",
      "9  1.0   3   B  12.2  15.8  16.9  \n",
      "\n",
      "[10 rows x 28 columns]\n",
      "\n",
      "10 dòng cuối cùng:\n",
      "    T10  L10  H10  S10  V10  D10  N10  T11  L11  H11  ...  V12  D12  N12  GT  \\\n",
      "90  5.6  5.5  5.2  5.7  7.3  6.6  5.8  8.6  9.0  9.7  ...  8.9  8.1  6.9   1   \n",
      "91  8.6  9.5  5.2  8.2  8.1  7.1  7.9  9.3  8.5  8.2  ...  9.8  6.4  5.8   1   \n",
      "92  8.8  9.5  9.1  5.9  6.4  7.5  7.5  9.2  6.4  8.0  ...  6.0  6.0  7.2   1   \n",
      "93  7.8  8.2  6.8  6.7  5.9  6.2  8.1  7.0  8.0  7.6  ...  7.6  7.6  5.7   0   \n",
      "94  8.9  6.7  5.6  9.5  7.3  5.6  5.1  8.3  6.8  6.2  ...  6.4  5.0  9.5   0   \n",
      "95  7.5  6.7  7.6  7.4  6.8  8.1  9.4  6.0  5.5  5.9  ...  9.0  5.0  6.7   1   \n",
      "96  7.6  8.6  8.8  8.3  7.9  6.4  9.7  6.5  9.6  6.1  ...  7.9  6.1  5.8   0   \n",
      "97  7.1  9.5  6.1  5.9  5.4  7.9  7.8  9.5  5.7  5.9  ...  8.2  5.2  5.1   0   \n",
      "98  5.1  9.4  8.1  6.0  9.9  5.8  8.5  5.1  9.8  8.9  ...  9.0  5.5  8.2   1   \n",
      "99  5.5  8.9  5.4  5.2  9.9  7.4  9.6  5.4  7.2  6.8  ...  7.0  6.7  8.2   0   \n",
      "\n",
      "     DT  KV  KT   DH1   DH2   DH3  \n",
      "90  1.0   1   D  16.7  10.5  23.2  \n",
      "91  1.0   3   B  27.3   6.0  26.5  \n",
      "92  2.0   2   A  22.7   5.9  11.9  \n",
      "93  1.0   1   D   6.6   9.4  25.2  \n",
      "94  1.0   2   A   8.7  26.7   9.9  \n",
      "95  1.0   1   C   5.2  12.1  13.6  \n",
      "96  1.0   1   A  20.8  28.8  13.4  \n",
      "97  1.0   1   A  16.2  19.5  29.5  \n",
      "98  1.0   3   B   8.4  15.9  26.4  \n",
      "99  1.0   1   A  28.9  19.5  22.5  \n",
      "\n",
      "[10 rows x 28 columns]\n"
     ]
    }
   ],
   "source": [
    "# Câu 3: Sử dụng Python để tải dữ liệu lên chương trình và in ra màn hình 10 dòng đầu tiên và 10 dòng cuối cùng\n",
    "\n",
    "import pandas as pd\n",
    "import numpy as np\n",
    "\n",
    "# Số lượng học sinh\n",
    "num_students = 100\n",
    "\n",
    "# Tạo ngẫu nhiên\n",
    "np.random.seed(42)  \n",
    "\n",
    "# Tạo điểm trung bình các môn từ lớp 10 đến lớp 12 \n",
    "subjects = ['T', 'L', 'H', 'S', 'V', 'S', 'D', 'N'] \n",
    "grades = {}\n",
    "\n",
    "for year in ['10', '11', '12']:  \n",
    "    for subject in subjects:\n",
    "        col_name = f\"{subject}{year}\"  \n",
    "        grades[col_name] = np.round(np.random.uniform(5, 10, num_students), 1)  \n",
    "\n",
    "# Tạo giới tính (0: Nữ, 1: Nam)\n",
    "grades['GT'] = np.random.choice([0, 1], num_students)\n",
    "\n",
    "# Tạo dân tộc (1: Kinh, 2: Khác)\n",
    "grades['DT'] = np.random.choice([1, 2, np.nan], num_students, p=[0.8, 0.15, 0.05])  \n",
    "\n",
    "# Tạo khu vực thi (1: KV1, 2: KV2, 3: KV3)\n",
    "grades['KV'] = np.random.choice([1, 2, 3], num_students)\n",
    "\n",
    "# Tạo khối thi (A: Khối A, B: Khối B, C: Khối C, D: Khối D)\n",
    "grades['KT'] = np.random.choice(['A', 'B', 'C', 'D'], num_students)\n",
    "\n",
    "# Tạo điểm thi đại học \n",
    "grades['DH1'] = np.round(np.random.uniform(5, 30, num_students), 1)  \n",
    "grades['DH2'] = np.round(np.random.uniform(5, 30, num_students), 1)  \n",
    "grades['DH3'] = np.round(np.random.uniform(5, 30, num_students), 1)  \n",
    "\n",
    "# Tạo DataFrame\n",
    "df = pd.DataFrame(grades)\n",
    "\n",
    "# In ra 10 dòng đầu tiên\n",
    "print(\"10 dòng đầu tiên:\")\n",
    "print(df.head(10))\n",
    "\n",
    "# In ra 10 dòng cuối cùng\n",
    "print(\"\\n10 dòng cuối cùng:\")\n",
    "print(df.tail(10))"
   ]
  },
  {
   "cell_type": "code",
   "execution_count": null,
   "metadata": {},
   "outputs": [
    {
     "name": "stdout",
     "output_type": "stream",
     "text": [
      "Số lượng dữ liệu thiếu trong cột DT: 0\n",
      "Số lượng giá trị riêng biệt trong cột DT: 3\n",
      "Số lượng dữ liệu thiếu sau khi xử lý: 0\n"
     ]
    }
   ],
   "source": [
    "# Câu 4: Thống kê dữ liệu thiếu cho cột dân tộc và hiệu chỉnh dữ liệu thiếu như sau: Mặc định thiếu thì điền giá trị 0.\n",
    "\n",
    "# Lập bảng tần số, tần suất để khảo sát dữ liệu thiếu\n",
    "missing_data = df['DT'].isnull().sum()\n",
    "unique_values = df['DT'].nunique()\n",
    "\n",
    "print(f\"Số lượng dữ liệu thiếu trong cột DT: {missing_data}\")\n",
    "print(f\"Số lượng giá trị riêng biệt trong cột DT: {unique_values}\")\n",
    "\n",
    "# Thay thế dữ liệu thiếu bằng giá trị 0 (Cách sửa lỗi)\n",
    "df['DT'] = df['DT'].fillna(0)\n",
    "\n",
    "# Kiểm tra lại sau khi thay thế\n",
    "print(f\"Số lượng dữ liệu thiếu sau khi xử lý: {df['DT'].isnull().sum()}\")\n"
   ]
  },
  {
   "cell_type": "code",
   "execution_count": 20,
   "metadata": {},
   "outputs": [
    {
     "name": "stdout",
     "output_type": "stream",
     "text": [
      "Số lượng dữ liệu thiếu trong cột T10: 0\n",
      "Số lượng dữ liệu thiếu sau khi xử lý: 0\n"
     ]
    }
   ],
   "source": [
    "# Câu 5: Thống kê dữ liệu thiếu cho biến T1 và hiệu chỉnh dữ liệu, lưu ý việc thay thế dữ liệu thiếu sử dụng phương pháp Mean.\n",
    "\n",
    "# Thống kê dữ liệu thiếu cho biến T1\n",
    "missing_T1 = df['T10'].isnull().sum()\n",
    "print(f\"Số lượng dữ liệu thiếu trong cột T10: {missing_T1}\")\n",
    "\n",
    "# Thay thế dữ liệu thiếu bằng giá trị trung bình (Mean)\n",
    "mean_T1 = df['T10'].mean()\n",
    "df['T10'] = df['T10'].fillna(mean_T1)\n",
    "\n",
    "# Kiểm tra lại sau khi thay thế\n",
    "print(f\"Số lượng dữ liệu thiếu sau khi xử lý: {df['T10'].isnull().sum()}\")"
   ]
  }
 ],
 "metadata": {
  "kernelspec": {
   "display_name": "Python 3",
   "language": "python",
   "name": "python3"
  },
  "language_info": {
   "codemirror_mode": {
    "name": "ipython",
    "version": 3
   },
   "file_extension": ".py",
   "mimetype": "text/x-python",
   "name": "python",
   "nbconvert_exporter": "python",
   "pygments_lexer": "ipython3",
   "version": "3.11.0"
  }
 },
 "nbformat": 4,
 "nbformat_minor": 2
}
